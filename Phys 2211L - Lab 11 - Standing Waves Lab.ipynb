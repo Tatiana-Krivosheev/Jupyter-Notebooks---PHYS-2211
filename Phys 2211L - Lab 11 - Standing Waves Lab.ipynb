{
 "cells": [
  {
   "cell_type": "markdown",
   "metadata": {},
   "source": [
    "# PHYS 2211L - Principles of Physics Laboratory I"
   ]
  },
  {
   "cell_type": "markdown",
   "metadata": {},
   "source": [
    "### Laboratory Advanced Sheet\n",
    "### Standing Waves Laboratory"
   ]
  },
  {
   "cell_type": "markdown",
   "metadata": {},
   "source": [
    "_____\n",
    "_____"
   ]
  },
  {
   "cell_type": "markdown",
   "metadata": {},
   "source": [
    "**Objective**. The objective of this laboratory is to study standing waves on strings by measuring wave speed."
   ]
  },
  {
   "cell_type": "markdown",
   "metadata": {},
   "source": [
    "**Theory**.   \n",
    "* The wave speed on a string is given by :\n",
    "\n",
    ">$$v = (\\dfrac{F}{\\mu})^{2}$$\n",
    "\n",
    ">where  \n",
    ">>$v$ is the wave speed,  \n",
    "$F$ is the tension in the string, and  \n",
    "$\\mu$ is the mass per unit length of the string.  \n",
    "\n",
    "* If the ends of a string are fixed, standing waves can be set up as a result of superposition of incident and reflected waves. The wavelengths of the normal modes of vibration are related to the length of the string by\n",
    "\n",
    ">$$\\dfrac{n {\\mu}_n}{2} = L$$  \n",
    "\n",
    ">where  \n",
    ">>$n$ is an integer greater than or equal to 1 indicating the $n^{th}$ normal mode of vibration,  \n",
    "$\\mu_n$ is the wavelength of the $n^{th}$ normal mode of vibration, and  \n",
    "$L$ is the length of the string. \n",
    "\n",
    "Since the speed of any wave is given by\n",
    "\n",
    ">$$v = f \\mu$$\n",
    "\n",
    ">where  \n",
    ">>$f$ is the frequency of the vibration,\n",
    "the wave speed can then be expressed as  \n",
    "\n",
    ">$$v = 2 f_n \\dfrac{L}{n}$$\n",
    "\n",
    ">where  \n",
    ">>$f_n$ is the frequency associated with the $n^{th}$ normal mode of vibration.  \n",
    "\n",
    "* In this experiment, a weight will be used to provide the tension in the string. The wave speed will be determined by two methods and compared:\n",
    "    1. Measurement of the mass providing the weight that in turn provides the tension in the string, and the mass per unit length of the string or wire gives the wave speed using the relationship in paragraph 2a above. This value of the wave speed will be used as the \"accepted\" value for comparison purposes.\n",
    "    2. Variation of the driving frequency of vibration will be used to determine several normal frequencies of vibration using the same tension as in the first method of finding the wave speed. These frequencies along with their mode number and the length of the string can then be used to find the wave speed using the relationship given in paragraph 2b. These wave speeds will be the \"measured\" values for comparison purposes.\n"
   ]
  },
  {
   "cell_type": "markdown",
   "metadata": {},
   "source": [
    "**Apparatus and experimental procedures**.  \n",
    "* Equipment\n",
    "    1. Meter stick.\n",
    "    2. String (several types).\n",
    "    3. Rods and clamps.\n",
    "    4. Pulley.\n",
    "    5. Mass set.\n",
    "    6. Triple-beam balance.\n",
    "    7. Power amplifier.\n",
    "    8. Wave driver.\n",
    "    9. Computer interface and computer.\n",
    "* Experimental setup. The experimental setup is shown in Figure 1 (provided by the student).\n",
    "* Capabilities. To be provided by the student."
   ]
  },
  {
   "cell_type": "markdown",
   "metadata": {},
   "source": [
    "**Requirements**.\n",
    "* In the laboratory.\n",
    "    1. Each laboratory group will make measurements on standing waves in four different types of string.\n",
    "    2. Measurements of the masses of selected lengths of each type of material will be performed by your instructor using a mass balance capable of measuring small masses to high precision. Data from these measurements should be entered in Annex A.\n",
    "    3. Measure the masses providing the tension in the string, and the lengths of the strings.\n",
    "    4. Use the power amplifier to vary driving frequency. By observing the the wave form on the sting, determine the frequencies of the first four normal modes of vibration on each of the four types of string.\n",
    "* After the laboratory. Complete the following portions of the laboratory report.\n"
   ]
  },
  {
   "cell_type": "markdown",
   "metadata": {},
   "source": [
    "**Para. 3. Apparatus and experimental procedures**.\n",
    "1. Provide a figure showing the experimental setup.\n",
    "2. Provide a description of the capabilities of the equipment used in the experiment.\n",
    "\n",
    "**Para. 4. Data**.\n",
    "1. Provide a copy of your original data.\n",
    "2. Provide a copy of your spreadsheet with calculations. Include the following:\n",
    "    1. Calculations of the \"accepted\" wave speeds and their uncertainties for the four materials.\n",
    "    2. Calculations of the \"measured\" wave speeds from the power amplifier frequency variation experiments. For each of the four types of string, calculate the wave speeds for the first four normal modes of vibration. Use the mean and standard deviation of each set of four wave speed determinations to provide the \"measured\" value of the wave speed and its uncertainty for each of the five types of string.\n",
    "    3. Calculate the fractional error in the \"measured\" values of the wave speeds for the four types of string.\n",
    "    4. Calculate the percent discrepancy between the \"measured\" and \"accepted\" values of the wave speed for the four types of string.\n",
    "\n",
    "**Para. 5. Results and Conclusions**.\n",
    "1. Provide a table of the \"accepted\" values of the wave speeds and their uncertainties for the four types of string.\n",
    "2. Provide a table of the \"measured\" values of the wave speeds, their uncertainties, percent fraction errors and percent discrepancies.\n",
    "3. Determine the type of error dominating in each of the four wave speed experiments.\n",
    "4. Describe sources of systematic error in the experiment.\n",
    "5. Describe sources of random error in the experiment."
   ]
  },
  {
   "cell_type": "markdown",
   "metadata": {},
   "source": [
    "_____"
   ]
  },
  {
   "cell_type": "markdown",
   "metadata": {},
   "source": [
    "<h3 align='center'> Annex A </h3>\n",
    "<h3 align='center'> Data </h3>"
   ]
  },
  {
   "cell_type": "code",
   "execution_count": 4,
   "metadata": {
    "collapsed": true
   },
   "outputs": [],
   "source": [
    "class ListTable(list):\n",
    "    \"\"\" Overridden list class which takes a 2-dimensional list of \n",
    "        the form [[1,2,3],[4,5,6]], and renders an HTML Table in \n",
    "        IPython Notebook. \"\"\"\n",
    "    \n",
    "    def _repr_html_(self):\n",
    "        html = [\"<table>\"]\n",
    "        for row in self:\n",
    "            html.append(\"<tr>\")\n",
    "            \n",
    "            for col in row:\n",
    "                html.append(\"<td>{0}</td>\".format(col))\n",
    "            \n",
    "            html.append(\"</tr>\")\n",
    "        html.append(\"</table>\")\n",
    "        return ''.join(html)"
   ]
  },
  {
   "cell_type": "markdown",
   "metadata": {},
   "source": [
    "#### 1) Measurements for the determination of $\\mu$, the mass per unit length of the three materials."
   ]
  },
  {
   "cell_type": "code",
   "execution_count": 5,
   "metadata": {
    "collapsed": false
   },
   "outputs": [
    {
     "ename": "SyntaxError",
     "evalue": "invalid syntax (<ipython-input-5-86b2eb445be4>, line 4)",
     "output_type": "error",
     "traceback": [
      "\u001b[1;36m  File \u001b[1;32m\"<ipython-input-5-86b2eb445be4>\"\u001b[1;36m, line \u001b[1;32m4\u001b[0m\n\u001b[1;33m    lm_tuple = (('string 1',[,]),\u001b[0m\n\u001b[1;37m                             ^\u001b[0m\n\u001b[1;31mSyntaxError\u001b[0m\u001b[1;31m:\u001b[0m invalid syntax\n"
     ]
    }
   ],
   "source": [
    "import collections\n",
    "\n",
    "# lm_tuple = (('string number,[length (m),mass (g)]))\n",
    "lm_tuple = (('string 1',[,]),\n",
    "            ('string 2',[,]),\n",
    "            ('string 3',[,]),\n",
    "            ('string 4',[,]))\n",
    "\n",
    "lm_ord_dict = collections.OrderedDict(lm_tuple)\n",
    "\n",
    "table = ListTable()\n",
    "table.append(['material','sample length (m)','sample mass (g)'])\n",
    "for item in lm_ord_dict:\n",
    "    material = item\n",
    "    l = lm_ord_dict[item][0]\n",
    "    m = lm_ord_dict[item][1]\n",
    "    table.append([material,l,m])\n",
    "    \"\"\"Adds a new row of values to your table with each successive iteration. Must be at the end of the loop.\"\"\"\n",
    "table"
   ]
  },
  {
   "cell_type": "markdown",
   "metadata": {
    "collapsed": true
   },
   "source": [
    "*Since the masses of the samples of string or elastic cord depend upon the relative humidity, your instructor wiill provide data for these materials at the beginning of the laboratory period."
   ]
  },
  {
   "cell_type": "markdown",
   "metadata": {},
   "source": [
    "#### 2) Measurements with string 1."
   ]
  },
  {
   "cell_type": "code",
   "execution_count": 6,
   "metadata": {
    "collapsed": false
   },
   "outputs": [
    {
     "ename": "SyntaxError",
     "evalue": "invalid syntax (<ipython-input-6-801023b40ea4>, line 1)",
     "output_type": "error",
     "traceback": [
      "\u001b[1;36m  File \u001b[1;32m\"<ipython-input-6-801023b40ea4>\"\u001b[1;36m, line \u001b[1;32m1\u001b[0m\n\u001b[1;33m    m1 =  # mass attached to string 1 (in kg)\u001b[0m\n\u001b[1;37m                                             ^\u001b[0m\n\u001b[1;31mSyntaxError\u001b[0m\u001b[1;31m:\u001b[0m invalid syntax\n"
     ]
    }
   ],
   "source": [
    "m1 =  # mass attached to string 1 (in kg)\n",
    "\n",
    "l1 =  # length of string 1 (in m)"
   ]
  },
  {
   "cell_type": "code",
   "execution_count": 7,
   "metadata": {
    "collapsed": false
   },
   "outputs": [
    {
     "ename": "SyntaxError",
     "evalue": "invalid syntax (<ipython-input-7-13d9c9e4f404>, line 1)",
     "output_type": "error",
     "traceback": [
      "\u001b[1;36m  File \u001b[1;32m\"<ipython-input-7-13d9c9e4f404>\"\u001b[1;36m, line \u001b[1;32m1\u001b[0m\n\u001b[1;33m    f1_dict = {1:,\u001b[0m\n\u001b[1;37m                 ^\u001b[0m\n\u001b[1;31mSyntaxError\u001b[0m\u001b[1;31m:\u001b[0m invalid syntax\n"
     ]
    }
   ],
   "source": [
    "f1_dict = {1:,\n",
    "           2:,\n",
    "           3:}\n",
    "\"\"\"Dictionary of frequencies (Hz); f_dict = {mode:frequency}.\"\"\"\n",
    "\n",
    "table = ListTable()\n",
    "table.append(['normal mode (n)','frequency (Hz)'])\n",
    "for item in f1_dict:\n",
    "    n1 = item\n",
    "    \"\"\"Returns string number. Index starts at 0, so trial number is index+1.\"\"\"\n",
    "    f1 = f1_dict[item]\n",
    "    \"\"\"Returns length of i+1 string.\"\"\"\n",
    "    table.append([n1,f1])\n",
    "    \"\"\"Adds a new row of values to your table with each successive iteration. Must be at the end of the loop.\"\"\"\n",
    "table"
   ]
  },
  {
   "cell_type": "markdown",
   "metadata": {},
   "source": [
    "#### 3) Measurements with string 2."
   ]
  },
  {
   "cell_type": "code",
   "execution_count": 8,
   "metadata": {
    "collapsed": false
   },
   "outputs": [
    {
     "ename": "SyntaxError",
     "evalue": "invalid syntax (<ipython-input-8-b3524b1ecdcf>, line 1)",
     "output_type": "error",
     "traceback": [
      "\u001b[1;36m  File \u001b[1;32m\"<ipython-input-8-b3524b1ecdcf>\"\u001b[1;36m, line \u001b[1;32m1\u001b[0m\n\u001b[1;33m    m2 =  # mass attached to string 2 (in kg)\u001b[0m\n\u001b[1;37m                                             ^\u001b[0m\n\u001b[1;31mSyntaxError\u001b[0m\u001b[1;31m:\u001b[0m invalid syntax\n"
     ]
    }
   ],
   "source": [
    "m2 =  # mass attached to string 2 (in kg)\n",
    "\n",
    "l2 =  # length of string 2 (in m)"
   ]
  },
  {
   "cell_type": "code",
   "execution_count": 9,
   "metadata": {
    "collapsed": false
   },
   "outputs": [
    {
     "ename": "SyntaxError",
     "evalue": "invalid syntax (<ipython-input-9-abf455534781>, line 1)",
     "output_type": "error",
     "traceback": [
      "\u001b[1;36m  File \u001b[1;32m\"<ipython-input-9-abf455534781>\"\u001b[1;36m, line \u001b[1;32m1\u001b[0m\n\u001b[1;33m    f2_dict = {1:,\u001b[0m\n\u001b[1;37m                 ^\u001b[0m\n\u001b[1;31mSyntaxError\u001b[0m\u001b[1;31m:\u001b[0m invalid syntax\n"
     ]
    }
   ],
   "source": [
    "f2_dict = {1:,\n",
    "           2:,\n",
    "           3:}\n",
    "\"\"\"Dictionary of frequencies (Hz); f_dict = {mode:length}.\"\"\"\n",
    "\n",
    "table = ListTable()\n",
    "table.append(['normal mode (n)','frequency (Hz)'])\n",
    "for item in f2_dict:\n",
    "    n2 = item\n",
    "    \"\"\"Returns string number. Index starts at 0, so trial number is index+1.\"\"\"\n",
    "    f2 = f2_dict[item]\n",
    "    \"\"\"Returns length of i+1 string.\"\"\"\n",
    "    table.append([n2,f2])\n",
    "    \"\"\"Adds a new row of values to your table with each successive iteration. Must be at the end of the loop.\"\"\"\n",
    "table"
   ]
  },
  {
   "cell_type": "markdown",
   "metadata": {},
   "source": [
    "#### 4) Measurements with string 3."
   ]
  },
  {
   "cell_type": "code",
   "execution_count": 10,
   "metadata": {
    "collapsed": false
   },
   "outputs": [
    {
     "ename": "SyntaxError",
     "evalue": "invalid syntax (<ipython-input-10-2ba8242aa6e3>, line 1)",
     "output_type": "error",
     "traceback": [
      "\u001b[1;36m  File \u001b[1;32m\"<ipython-input-10-2ba8242aa6e3>\"\u001b[1;36m, line \u001b[1;32m1\u001b[0m\n\u001b[1;33m    m3 =  # mass attached to string 3 (in kg)\u001b[0m\n\u001b[1;37m                                             ^\u001b[0m\n\u001b[1;31mSyntaxError\u001b[0m\u001b[1;31m:\u001b[0m invalid syntax\n"
     ]
    }
   ],
   "source": [
    "m3 =  # mass attached to string 3 (in kg)\n",
    "\n",
    "l3 =  # length of string 3 (in m)"
   ]
  },
  {
   "cell_type": "code",
   "execution_count": 11,
   "metadata": {
    "collapsed": false
   },
   "outputs": [
    {
     "ename": "SyntaxError",
     "evalue": "invalid syntax (<ipython-input-11-8bcd4d421e2f>, line 1)",
     "output_type": "error",
     "traceback": [
      "\u001b[1;36m  File \u001b[1;32m\"<ipython-input-11-8bcd4d421e2f>\"\u001b[1;36m, line \u001b[1;32m1\u001b[0m\n\u001b[1;33m    f3_dict = {1:,\u001b[0m\n\u001b[1;37m                 ^\u001b[0m\n\u001b[1;31mSyntaxError\u001b[0m\u001b[1;31m:\u001b[0m invalid syntax\n"
     ]
    }
   ],
   "source": [
    "f3_dict = {1:,\n",
    "           2:,\n",
    "           3:}\n",
    "\"\"\"Dictionary of frequencies (Hz); f_dict = {mode:length}.\"\"\"\n",
    "\n",
    "table = ListTable()\n",
    "table.append(['normal mode (n)','frequency (Hz)'])\n",
    "for item in f3_dict:\n",
    "    n3 = item\n",
    "    \"\"\"Returns string number. Index starts at 0, so trial number is index+1.\"\"\"\n",
    "    f3 = f3_dict[item]\n",
    "    \"\"\"Returns length of i+1 string.\"\"\"\n",
    "    table.append([n3,f3])\n",
    "    \"\"\"Adds a new row of values to your table with each successive iteration. Must be at the end of the loop.\"\"\"\n",
    "table"
   ]
  },
  {
   "cell_type": "markdown",
   "metadata": {},
   "source": [
    "#### 5) Measurements with string 4."
   ]
  },
  {
   "cell_type": "code",
   "execution_count": 12,
   "metadata": {
    "collapsed": false
   },
   "outputs": [
    {
     "ename": "SyntaxError",
     "evalue": "invalid syntax (<ipython-input-12-679e80f0c30b>, line 1)",
     "output_type": "error",
     "traceback": [
      "\u001b[1;36m  File \u001b[1;32m\"<ipython-input-12-679e80f0c30b>\"\u001b[1;36m, line \u001b[1;32m1\u001b[0m\n\u001b[1;33m    m4 =  # mass attached to string 4 (in kg)\u001b[0m\n\u001b[1;37m                                             ^\u001b[0m\n\u001b[1;31mSyntaxError\u001b[0m\u001b[1;31m:\u001b[0m invalid syntax\n"
     ]
    }
   ],
   "source": [
    "m4 =  # mass attached to string 4 (in kg)\n",
    "\n",
    "l4 =  # length of string 4 (in m)"
   ]
  },
  {
   "cell_type": "code",
   "execution_count": 13,
   "metadata": {
    "collapsed": false
   },
   "outputs": [
    {
     "ename": "SyntaxError",
     "evalue": "invalid syntax (<ipython-input-13-07dd370d22b3>, line 1)",
     "output_type": "error",
     "traceback": [
      "\u001b[1;36m  File \u001b[1;32m\"<ipython-input-13-07dd370d22b3>\"\u001b[1;36m, line \u001b[1;32m1\u001b[0m\n\u001b[1;33m    f4_dict = {1:,\u001b[0m\n\u001b[1;37m                 ^\u001b[0m\n\u001b[1;31mSyntaxError\u001b[0m\u001b[1;31m:\u001b[0m invalid syntax\n"
     ]
    }
   ],
   "source": [
    "f4_dict = {1:,\n",
    "           2:,\n",
    "           3:}\n",
    "\"\"\"Dictionary of frequencies (Hz); f_dict = {mode:length}.\"\"\"\n",
    "\n",
    "table = ListTable()\n",
    "table.append(['normal mode (n)','frequency (Hz)'])\n",
    "for item in f4_dict:\n",
    "    n4 = item\n",
    "    \"\"\"Returns string number. Index starts at 0, so trial number is index+1.\"\"\"\n",
    "    f4 = f4_dict[item]\n",
    "    \"\"\"Returns length of i+1 string.\"\"\"\n",
    "    table.append([n4,f4])\n",
    "    \"\"\"Adds a new row of values to your table with each successive iteration. Must be at the end of the loop.\"\"\"\n",
    "table"
   ]
  },
  {
   "cell_type": "markdown",
   "metadata": {
    "collapsed": true
   },
   "source": [
    "_____\n",
    "_____"
   ]
  }
 ],
 "metadata": {
  "kernelspec": {
   "display_name": "Python 3",
   "language": "python",
   "name": "python3"
  },
  "language_info": {
   "codemirror_mode": {
    "name": "ipython",
    "version": 3
   },
   "file_extension": ".py",
   "mimetype": "text/x-python",
   "name": "python",
   "nbconvert_exporter": "python",
   "pygments_lexer": "ipython3",
   "version": "3.4.3"
  }
 },
 "nbformat": 4,
 "nbformat_minor": 0
}
