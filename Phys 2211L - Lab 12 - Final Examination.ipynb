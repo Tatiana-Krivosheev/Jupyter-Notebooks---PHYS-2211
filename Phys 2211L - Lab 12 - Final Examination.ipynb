{
 "cells": [
  {
   "cell_type": "markdown",
   "metadata": {},
   "source": [
    "# PHYS 2211L - Principles of Physics Laboratory"
   ]
  },
  {
   "cell_type": "markdown",
   "metadata": {},
   "source": [
    "#### Laboratory Advanced Sheet\n",
    "#### Final Examination Laboratory"
   ]
  },
  {
   "cell_type": "markdown",
   "metadata": {},
   "source": [
    "_____\n",
    "_____"
   ]
  },
  {
   "cell_type": "markdown",
   "metadata": {},
   "source": [
    "**Objective**. The objective of this laboratory is to experimentally determine the acceleration due to gravity using a simple pendulum."
   ]
  },
  {
   "cell_type": "markdown",
   "metadata": {},
   "source": [
    "**Theory**. \n",
    "* A simple pendulum consists of a mass connected to a pivot by a string. If the pendulum is placed in motion by pulling the mass to the side and releasing it, the pendulum will oscillate back and forth. The period of the pendulum is the amount of time required for the pendulum to complete a full oscillation; that is, the time to return to its release point. If the angle of release for the pendulum is small (less than 15 degrees from the vertical), the period is given by\n",
    "\n",
    ">$$T = 2\\pi {\\dfrac{L}{g}}^\\dfrac{1}{2}$$\n",
    "\n",
    ">where\n",
    ">>$T$ is the period of the pendulum,   \n",
    "$L$ is the length of pendulum, and  \n",
    "$g$ is the acceleration due to gravity.\n",
    "\n",
    "* If the period of the simple pendulum and its length are measured, the acceleration due to gravity can be determined using\n",
    "\n",
    ">$$g = 4 {\\pi}^2 \\dfrac{L}{{T}^2}$$"
   ]
  },
  {
   "cell_type": "markdown",
   "metadata": {},
   "source": [
    "**Apparatus and experimental procedures**.\n",
    "* Equipment.\n",
    "    1. Stop watch.\n",
    "    2. Meter stick.\n",
    "    3. String.\n",
    "    4. Rods and clamps.\n",
    "    5. Mass for pendulum bob.\n",
    "    6. Protractor.\n",
    "* Experimental setup. The experimental setup is shown in Figure 1 (provided by the student).\n",
    "* Capabilities. To be provided by the student.\n"
   ]
  },
  {
   "cell_type": "markdown",
   "metadata": {},
   "source": [
    "**Requirements**.\n",
    "* In the laboratory (data tables are provided in Annex A).\n",
    "    1. Measure the period of your simple pendulum five times.\n",
    "    2. Measure the length of the pendulum (pivot to center of mass distance).\n",
    "* In the classroom. Complete the following portions of the laboratory report."
   ]
  },
  {
   "cell_type": "markdown",
   "metadata": {},
   "source": [
    "**Para. 3. Apparatus and experimental procedures**.\n",
    "1. Provide a figure showing the experimental setup.\n",
    "2. Provide a description of the capabilities of the equipment used in the experiment.\n",
    "\n",
    "**Para. 4. Data**.\n",
    "1. Provide a copy of your original data for the experiment.\n",
    "2. Provide a copy of your spreadsheet with calculations. Include the following:\n",
    "     1.The period and uncertainty in the period of your simple pendulum.\n",
    "    2. The acceleration due to gravity.\n",
    "    3. The uncertainty in the acceleration due to gravity.\n",
    "    4. The percent fractional error in the acceleration due to gravity.\n",
    "    5. The percent discrepancy in the acceleration due to gravity. Use 9.800 m/s2 as the accepted value for the acceleration due to gravity.\n",
    "\n",
    "**Para. 5. Results and Conclusions*.\n",
    "1. Provide a statement of the acceleration due to gravity and its uncertainty.\n",
    "2. Provide a statement of the percent fractional error in the experiment.\n",
    "3. Provide a statement of the percent discrepancy in the experiment.\n",
    "4. Provide a statement identifying the dominant type of error in the experiment.\n",
    "5. Provide a statement identifying the measurement that produces the greatest amount of random error in the experiment.\n",
    "6. Describe sources of systematic error in the experiment.\n",
    "7. Describe sources of random error in the experiment."
   ]
  },
  {
   "cell_type": "markdown",
   "metadata": {},
   "source": [
    "_____"
   ]
  },
  {
   "cell_type": "markdown",
   "metadata": {},
   "source": [
    "<h3 align='center'> Annex A </h3>\n",
    "<h3 align='center'> Data </h3>"
   ]
  },
  {
   "cell_type": "code",
   "execution_count": 1,
   "metadata": {
    "collapsed": true
   },
   "outputs": [],
   "source": [
    "class ListTable(list):\n",
    "    \"\"\" Overridden list class which takes a 2-dimensional list of \n",
    "        the form [[1,2,3],[4,5,6]], and renders an HTML Table in \n",
    "        IPython Notebook. \"\"\"\n",
    "    \n",
    "    def _repr_html_(self):\n",
    "        html = [\"<table>\"]\n",
    "        for row in self:\n",
    "            html.append(\"<tr>\")\n",
    "            \n",
    "            for col in row:\n",
    "                html.append(\"<td>{0}</td>\".format(col))\n",
    "            \n",
    "            html.append(\"</tr>\")\n",
    "        html.append(\"</table>\")\n",
    "        return ''.join(html)"
   ]
  },
  {
   "cell_type": "markdown",
   "metadata": {},
   "source": [
    "#### 1) Data required for determining the period of the simple pendulum."
   ]
  },
  {
   "cell_type": "code",
   "execution_count": 2,
   "metadata": {
    "collapsed": false
   },
   "outputs": [
    {
     "ename": "SyntaxError",
     "evalue": "invalid syntax (<ipython-input-2-f75d13df0944>, line 4)",
     "output_type": "error",
     "traceback": [
      "\u001b[1;36m  File \u001b[1;32m\"<ipython-input-2-f75d13df0944>\"\u001b[1;36m, line \u001b[1;32m4\u001b[0m\n\u001b[1;33m    o_t_tuple = ((1,[,]),\u001b[0m\n\u001b[1;37m                     ^\u001b[0m\n\u001b[1;31mSyntaxError\u001b[0m\u001b[1;31m:\u001b[0m invalid syntax\n"
     ]
    }
   ],
   "source": [
    "import collections\n",
    "\n",
    "# o_t_tuple = ((trial number,[number of oscillations,total time (s)]),...))\n",
    "o_t_tuple = ((1,[,]),\n",
    "             (2,[,]),\n",
    "             (3,[,]),\n",
    "             (4,[,]),\n",
    "             (5,[,]))\n",
    "\n",
    "o_t_ord_dict = collections.OrderedDict(o_t_tuple)\n",
    "\n",
    "table = ListTable()\n",
    "table.append(['trial','number of oscillations','total time (s)'])\n",
    "for item in o_t_ord_dict:\n",
    "    table.append([item,\n",
    "                  o_t_ord_dict[item][0],\n",
    "                  o_t_ord_dict[item][1]])\n",
    "table"
   ]
  },
  {
   "cell_type": "markdown",
   "metadata": {},
   "source": [
    "#### 2) Length of simple pendulum (pivot to center of mass)."
   ]
  },
  {
   "cell_type": "code",
   "execution_count": 3,
   "metadata": {
    "collapsed": false
   },
   "outputs": [
    {
     "ename": "SyntaxError",
     "evalue": "invalid syntax (<ipython-input-3-126ac13f9c97>, line 1)",
     "output_type": "error",
     "traceback": [
      "\u001b[1;36m  File \u001b[1;32m\"<ipython-input-3-126ac13f9c97>\"\u001b[1;36m, line \u001b[1;32m1\u001b[0m\n\u001b[1;33m    L =  # Length of pendulum (in m)\u001b[0m\n\u001b[1;37m                                    ^\u001b[0m\n\u001b[1;31mSyntaxError\u001b[0m\u001b[1;31m:\u001b[0m invalid syntax\n"
     ]
    }
   ],
   "source": [
    "L =  # Length of pendulum (in m)\n",
    "err_L =  # Uncertainty in measurement (in m)"
   ]
  },
  {
   "cell_type": "code",
   "execution_count": 4,
   "metadata": {
    "collapsed": false
   },
   "outputs": [
    {
     "ename": "NameError",
     "evalue": "name 'L' is not defined",
     "output_type": "error",
     "traceback": [
      "\u001b[1;31m---------------------------------------------------------------------------\u001b[0m",
      "\u001b[1;31mNameError\u001b[0m                                 Traceback (most recent call last)",
      "\u001b[1;32m<ipython-input-4-94ac79b2ff34>\u001b[0m in \u001b[0;36m<module>\u001b[1;34m()\u001b[0m\n\u001b[0;32m      1\u001b[0m \u001b[0mtable\u001b[0m \u001b[1;33m=\u001b[0m \u001b[0mListTable\u001b[0m\u001b[1;33m(\u001b[0m\u001b[1;33m)\u001b[0m\u001b[1;33m\u001b[0m\u001b[0m\n\u001b[0;32m      2\u001b[0m \u001b[0mtable\u001b[0m\u001b[1;33m.\u001b[0m\u001b[0mappend\u001b[0m\u001b[1;33m(\u001b[0m\u001b[1;33m[\u001b[0m\u001b[1;34m'L (m)'\u001b[0m\u001b[1;33m,\u001b[0m\u001b[1;34m'$\\delta$L (m)'\u001b[0m\u001b[1;33m]\u001b[0m\u001b[1;33m)\u001b[0m\u001b[1;33m\u001b[0m\u001b[0m\n\u001b[1;32m----> 3\u001b[1;33m \u001b[0mtable\u001b[0m\u001b[1;33m.\u001b[0m\u001b[0mappend\u001b[0m\u001b[1;33m(\u001b[0m\u001b[1;33m[\u001b[0m\u001b[0mL\u001b[0m\u001b[1;33m,\u001b[0m\u001b[0merr_L\u001b[0m\u001b[1;33m]\u001b[0m\u001b[1;33m)\u001b[0m\u001b[1;33m\u001b[0m\u001b[0m\n\u001b[0m\u001b[0;32m      4\u001b[0m \u001b[0mtable\u001b[0m\u001b[1;33m\u001b[0m\u001b[0m\n",
      "\u001b[1;31mNameError\u001b[0m: name 'L' is not defined"
     ]
    }
   ],
   "source": [
    "table = ListTable()\n",
    "table.append(['L (m)','$\\delta$L (m)'])\n",
    "table.append([L,err_L])\n",
    "table"
   ]
  },
  {
   "cell_type": "markdown",
   "metadata": {},
   "source": [
    "_____\n",
    "_____"
   ]
  }
 ],
 "metadata": {
  "kernelspec": {
   "display_name": "Python 3",
   "language": "python",
   "name": "python3"
  },
  "language_info": {
   "codemirror_mode": {
    "name": "ipython",
    "version": 3
   },
   "file_extension": ".py",
   "mimetype": "text/x-python",
   "name": "python",
   "nbconvert_exporter": "python",
   "pygments_lexer": "ipython3",
   "version": "3.4.3"
  }
 },
 "nbformat": 4,
 "nbformat_minor": 0
}
