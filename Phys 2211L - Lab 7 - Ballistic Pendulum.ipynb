{
 "cells": [
  {
   "cell_type": "markdown",
   "metadata": {},
   "source": [
    "# PHYS 2211L - Principles of Physics Laboratory I"
   ]
  },
  {
   "cell_type": "markdown",
   "metadata": {},
   "source": [
    "#### Laboratory Advanced Sheet\n",
    "#### Ballistic Pendulum"
   ]
  },
  {
   "cell_type": "markdown",
   "metadata": {},
   "source": [
    "_____\n",
    "_____"
   ]
  },
  {
   "cell_type": "markdown",
   "metadata": {},
   "source": [
    "**Objective**. The objective of this laboratory is to use the ballistic pendulum to predict the initial velocity of a projectile using the principles of conservation of linear momentum and conservation of total mechanical energy."
   ]
  },
  {
   "cell_type": "markdown",
   "metadata": {},
   "source": [
    "**Theory**. The initial velocity of the projectile will be measured by two independent methods. Those measurements will then be compared.\n",
    "* The first measurement method will use the range of a projectile launched horizontally from a given height above the lab table's surface to measure the initial velocity of the projectile. From the results of the projectile motion laboratory:\n",
    ">$$v_{1i} = \\sqrt{\\frac{gx^2}{2y_0}}$$\n",
    "\n",
    ">where \n",
    ">>$v1i$ is the initial velocity of the projectile,  \n",
    "$g$ is the acceleration due to gravity near the Earth's surface,  \n",
    "$x$ is the range of the projectile, and  \n",
    "$y_0$ is the initial height of the projectile above the surface of the lab table.\n",
    "\n",
    "* Derive the expression for the initial velocity of a projectile in a ballistic pendulum system ($v_1i$). Hint: Refer to Serway's discussion of the ballistic pendulum. The pendulum we use will be very similar to that shown Figure 9-11 of your text. Explain all assumptions and show all steps."
   ]
  },
  {
   "cell_type": "markdown",
   "metadata": {},
   "source": [
    "**Apparatus and experimental procedures**.\n",
    "* Equipment.\n",
    "    1. Ballistic pendulum apparatus\n",
    "    2. Meter stick.\n",
    "    3. Carbon paper.\n",
    "    4. Mass balance.\n",
    "* Experimental setup. The experimental setup is shown in Figure 1 (provided by the student).\n",
    "* Capabilities. To be provided by the student.\n",
    "\n"
   ]
  },
  {
   "cell_type": "markdown",
   "metadata": {},
   "source": [
    "**Requirements**.\n",
    "* In the laboratory.\n",
    "    1. Using the techniques you learned in the projectile motion laboratory, determine the initial velocity of the launcher by measuring the initial height and range of the mass when projected horizontally. (**Warning**: Keep the pendulum portion of the apparatus out of the line of fire during this part of the laboratory.) Conduct five range trials.\n",
    "    2. Measure the distance from the pivot point to the center of mass of the pendulum/ball system.\n",
    "    3. Conduct five trials allowing the projectile and the pendulum to collide. Measure the swing angle of the pendulum-ball combination after the collision. \n",
    "    4. Measure the masses of the projectile and the pendulum.\n",
    "* After the laboratory. The items listed below will be turned in at the beginning of the next laboratory period. A complete laboratory report is not required for this laboratory.\n",
    "\n",
    "**Para. 2. Theory**. \n",
    "\n",
    "Provide the portion of the theory section dealing with the development of the equation used to calculate the initial velocity ($v_1i$) of the projectile using the ballistic pendulum. Use the following symbols in your development:\n",
    "\n",
    "1. The distance from the pivot to the center of mass of the pendulum/ball system is $R_{CM}$.\n",
    "2. The angle of the swing of the ball and pendulum system is $theta$.\n",
    "3. The mass of the ball is $m_1$; the mass of the pendulum is $m_2$.\n",
    "\n",
    "**Para. 3. Apparatus and experimental procedures**.\n",
    "\n",
    "1. Provide a figure showing the experimental setup.\n",
    "2. Provide a description of the capabilities of the equipment used in the experiment.\n",
    "\n",
    "**Para. 4. Data**.\n",
    "\n",
    "1. Provide a copy of your data (Annex A contains tables for data).\n",
    "2. Provide the following calculations in a spreadsheet (Annex B provides equations for calculations which are contained in the ballistic.xls spreadsheet provided by your instructor):\n",
    "    1. The initial velocity of the projectile as determined by the range method.\n",
    "    2. The uncertainty in the velocity of the projectile as determined using the range method.\n",
    "    3. The initial velocity of the projectile as determined using the ballistic pendulum.\n",
    "    4. The uncertainty in the velocity of the projectile as determined using the ballistic pendulum.\n",
    "    5. The percent fractional errors in the initial velocity of the projectile determined using both the range method and the ballistic pendulum.\n",
    "    6. The percent discrepancy between the two initial velocities. Use the initial velocity determined using the projectile motion measurements as the accepted value in this calculation.\n",
    "\n",
    "**Para 5. Results and Conclusions**.\n",
    "\n",
    "1. Provide a statement of the initial velocities determined by each method and their uncertainties.\n",
    "2. Provide a statement of the percent fractional error and percent discrepancy in your results for the initial velocity determined using the ballistic pendulum.\n",
    "3. Assess the precision and accuracy of the experiment.\n",
    "4. Describe sources of random error in the experiment.\n",
    "5. Describe sources of systematic error in the experiment.\n"
   ]
  },
  {
   "cell_type": "markdown",
   "metadata": {},
   "source": [
    "_____"
   ]
  },
  {
   "cell_type": "markdown",
   "metadata": {},
   "source": [
    "<h3 align='center'> Annex A </h3>\n",
    "<h3 align='center'> Measurements </h3>"
   ]
  },
  {
   "cell_type": "code",
   "execution_count": 1,
   "metadata": {
    "collapsed": true
   },
   "outputs": [],
   "source": [
    "class ListTable(list):\n",
    "    \"\"\" Overridden list class which takes a 2-dimensional list of \n",
    "        the form [[1,2,3],[4,5,6]], and renders an HTML Table in \n",
    "        IPython Notebook. \"\"\"\n",
    "    \n",
    "    def _repr_html_(self):\n",
    "        html = [\"<table>\"]\n",
    "        for row in self:\n",
    "            html.append(\"<tr>\")\n",
    "            \n",
    "            for col in row:\n",
    "                html.append(\"<td>{0}</td>\".format(col))\n",
    "            \n",
    "            html.append(\"</tr>\")\n",
    "        html.append(\"</table>\")\n",
    "        return ''.join(html)"
   ]
  },
  {
   "cell_type": "markdown",
   "metadata": {},
   "source": [
    "#### 1) Initial height of projectile (use bottom of mass)."
   ]
  },
  {
   "cell_type": "code",
   "execution_count": 2,
   "metadata": {
    "collapsed": false
   },
   "outputs": [
    {
     "ename": "SyntaxError",
     "evalue": "invalid syntax (<ipython-input-2-63bda84b2123>, line 1)",
     "output_type": "error",
     "traceback": [
      "\u001b[1;36m  File \u001b[1;32m\"<ipython-input-2-63bda84b2123>\"\u001b[1;36m, line \u001b[1;32m1\u001b[0m\n\u001b[1;33m    y0 =  # Initial height of projectile in meters.\u001b[0m\n\u001b[1;37m                                                   ^\u001b[0m\n\u001b[1;31mSyntaxError\u001b[0m\u001b[1;31m:\u001b[0m invalid syntax\n"
     ]
    }
   ],
   "source": [
    "y0 =  # Initial height of projectile in meters.\n",
    "err_y0 =  # Uncertainty in height measurement.\n",
    "\n",
    "table = ListTable()\n",
    "table.append(['$y_0$ (m)','$\\delta y_0$ (m)'])\n",
    "table.append([y0,err_y0])\n",
    "table"
   ]
  },
  {
   "cell_type": "markdown",
   "metadata": {},
   "source": [
    "#### 2) Range of projectile."
   ]
  },
  {
   "cell_type": "code",
   "execution_count": 3,
   "metadata": {
    "collapsed": false
   },
   "outputs": [
    {
     "ename": "SyntaxError",
     "evalue": "invalid syntax (<ipython-input-3-240662545a7c>, line 2)",
     "output_type": "error",
     "traceback": [
      "\u001b[1;36m  File \u001b[1;32m\"<ipython-input-3-240662545a7c>\"\u001b[1;36m, line \u001b[1;32m2\u001b[0m\n\u001b[1;33m    Range_dict = {1:,\u001b[0m\n\u001b[1;37m                    ^\u001b[0m\n\u001b[1;31mSyntaxError\u001b[0m\u001b[1;31m:\u001b[0m invalid syntax\n"
     ]
    }
   ],
   "source": [
    "# Dictionary of range of projectile for each trial. \n",
    "Range_dict = {1:,\n",
    "              2:,\n",
    "              3:,\n",
    "              4:,\n",
    "              5:}\n",
    "\n",
    "table = ListTable()\n",
    "table.append(['trial','x (m)'])\n",
    "for item in Range_dict:\n",
    "    table.append([item,\n",
    "                  Range_dict[item]])\n",
    "    if list(Range_dict.keys()).index(item) == 0:\n",
    "        sum_R = Range_dict[item]\n",
    "    else:\n",
    "        sum_R = sum_R + Range_dict[item]\n",
    "table"
   ]
  },
  {
   "cell_type": "markdown",
   "metadata": {},
   "source": [
    "#### 3) Mass measurements."
   ]
  },
  {
   "cell_type": "code",
   "execution_count": 5,
   "metadata": {
    "collapsed": false,
    "scrolled": true
   },
   "outputs": [
    {
     "ename": "SyntaxError",
     "evalue": "invalid syntax (<ipython-input-5-09100688863f>, line 2)",
     "output_type": "error",
     "traceback": [
      "\u001b[1;36m  File \u001b[1;32m\"<ipython-input-5-09100688863f>\"\u001b[1;36m, line \u001b[1;32m2\u001b[0m\n\u001b[1;33m    m_dict = {'m1':,\u001b[0m\n\u001b[1;37m                   ^\u001b[0m\n\u001b[1;31mSyntaxError\u001b[0m\u001b[1;31m:\u001b[0m invalid syntax\n"
     ]
    }
   ],
   "source": [
    "# Dictionary storing masses (in kg) for the two objects.\n",
    "m_dict = {'m1':,\n",
    "          'm2':}\n",
    "\n",
    "err_m =  # Uncertainty in mass measurements (in kg).\n",
    "\n",
    "table = ListTable()\n",
    "table.append(['','mass (kg)','$\\delta$m (kg)'])\n",
    "table.append(['m1',m_dict['m1'],err_m])\n",
    "table.append(['m2',m_dict['m2'],err_m])\n",
    "table"
   ]
  },
  {
   "cell_type": "markdown",
   "metadata": {},
   "source": [
    "#### 4)  Pivot to center of mass distance."
   ]
  },
  {
   "cell_type": "code",
   "execution_count": 6,
   "metadata": {
    "collapsed": false
   },
   "outputs": [
    {
     "ename": "SyntaxError",
     "evalue": "invalid syntax (<ipython-input-6-78097e63afb8>, line 1)",
     "output_type": "error",
     "traceback": [
      "\u001b[1;36m  File \u001b[1;32m\"<ipython-input-6-78097e63afb8>\"\u001b[1;36m, line \u001b[1;32m1\u001b[0m\n\u001b[1;33m    Rcm =  # Length of arm in meters.\u001b[0m\n\u001b[1;37m                                     ^\u001b[0m\n\u001b[1;31mSyntaxError\u001b[0m\u001b[1;31m:\u001b[0m invalid syntax\n"
     ]
    }
   ],
   "source": [
    "Rcm =  # Length of arm in meters.\n",
    "err_Rcm =  # Uncertainty in measurement of length of arm in meters.\n",
    "\n",
    "table = ListTable()\n",
    "table.append(['$R_{CM}$ (m)','$\\delta R_{CM}$ (m)'])\n",
    "table.append([Rcm,dRcm])\n",
    "table\n",
    "\n"
   ]
  },
  {
   "cell_type": "markdown",
   "metadata": {},
   "source": [
    "#### 5) Swing angle of ball and pendulum system."
   ]
  },
  {
   "cell_type": "code",
   "execution_count": 7,
   "metadata": {
    "collapsed": false
   },
   "outputs": [
    {
     "ename": "SyntaxError",
     "evalue": "invalid syntax (<ipython-input-7-4516cd1bdb22>, line 2)",
     "output_type": "error",
     "traceback": [
      "\u001b[1;36m  File \u001b[1;32m\"<ipython-input-7-4516cd1bdb22>\"\u001b[1;36m, line \u001b[1;32m2\u001b[0m\n\u001b[1;33m    angle_dict = {1:,\u001b[0m\n\u001b[1;37m                    ^\u001b[0m\n\u001b[1;31mSyntaxError\u001b[0m\u001b[1;31m:\u001b[0m invalid syntax\n"
     ]
    }
   ],
   "source": [
    "# Dictionary storing angle values of each trial.\n",
    "angle_dict = {1:,\n",
    "              2:,\n",
    "              3:,\n",
    "              4:,\n",
    "              5:}\n",
    "\n",
    "table = ListTable()\n",
    "table.append(['trial','$\\theta$ (degrees)'])\n",
    "for i in range(0,len(angle_dict)):\n",
    "    table.append([i+1,angle_dict[i+1]])\n",
    "table"
   ]
  },
  {
   "cell_type": "markdown",
   "metadata": {
    "collapsed": true
   },
   "source": [
    "<h3 align='center'> Annex B </h3>\n",
    "<h3 align='center'> Calculations </h3>"
   ]
  },
  {
   "cell_type": "markdown",
   "metadata": {},
   "source": [
    "The calculations associated with the propagation of error are somewhat tedious and are, therefore, computed in a spreadsheet to avoid numerical mistakes. The ExcelTM spreadsheet file is ballistic.xls. Derivations of the formulas used in the spreadsheet are provided.\n",
    "\n",
    "1) The \"accepted\" initial velocity is given by\n",
    "\n",
    ">$$v_{1i,acc} = \\sqrt{\\dfrac{g x^2}{2 y_0}}$$\n",
    "\n",
    "2) The uncertainty in the \"accepted\" initial velocity is given by\n",
    "\n",
    ">$$\\delta v_{1i,acc} = \\sqrt{(\\dfrac{\\partial v_{1i,acc}}{\\partial g} \\delta g)^2 + (\\dfrac{\\partial v_{1i,acc}}{\\partial x} \\delta x)^2 + (\\dfrac{\\partial v_{1i,acc}}{\\partial y_0} \\delta y_0)^2}$$\n",
    "\n",
    ">where,\n",
    "\n",
    ">$$\\dfrac{\\partial v_{1i,acc}}{\\partial g} = \\dfrac{x}{\\sqrt{8 y_0 g}}$$\n",
    "\n",
    ">>with $g = 9.800 m/s^2$ and $\\delta g = 0.005 m/s^2$\n",
    "\n",
    ">$$\\dfrac{\\partial v_{1i,acc}}{\\partial x} = \\sqrt{\\dfrac{g}{2 y_0}}$$\n",
    "\n",
    ">and\n",
    "\n",
    ">$$\\dfrac{\\partial v_{1i,acc}}{\\partial y_0} = - x \\sqrt{\\dfrac{g}{8 y_0^3}}$$\n",
    "\n",
    "3) The calculated value of the initial velocity measured using the ballistic pendulum is given by\n",
    "\n",
    ">$$v_{1f} = (\\dfrac{(m_1 + m_2)}{m_1} \\sqrt{2g R_{CM} (1 - cos \\theta)}$$\n",
    "\n",
    "4) The uncertainty in the measured initial velocity is given by\n",
    "\n",
    ">$$\\delta v_{1f} = \\sqrt{(\\dfrac{\\partial v_{1i}}{\\partial m_1} \\delta m_1)^2 + (\\dfrac{\\partial v_{1i}}{\\partial m_2} \\delta m_2)^2 + (\\dfrac{\\partial v_{1i}}{\\partial R_{CM}} \\delta R_{CM})^2 + (\\dfrac{\\partial v_{1i}}{\\partial g} \\delta g)^2 +(\\dfrac{\\partial v_{1i}}{\\partial \\theta} \\delta \\theta)^2}$$\n",
    "\n",
    ">where\n",
    "\n",
    ">\\begin{equation*}\n",
    "\\begin{split}\n",
    "&\\dfrac{\\partial v_{1i}}{\\partial m_1} = - (\\dfrac{m_2}{m_1^2}) \\sqrt{2 g R_{CM} (1 - cos \\theta)}\n",
    "\\\\\n",
    "\\\\\n",
    "&\\dfrac{\\partial v_{1i}}{\\partial m_2} = (\\dfrac{1}{m_1}) \\sqrt{2 g R_{CM} (1 - cos \\theta)}\n",
    "\\\\\n",
    "\\\\\n",
    "&\\dfrac{\\partial v_{1i}}{\\partial R_{CM}} = (\\dfrac{m_1 + m_2}{m_1} \\dfrac{g (1 - cos \\theta)}{\\sqrt{2 g R_{CM} (1 - cos \\theta)}}\n",
    "\\\\\n",
    "\\\\\n",
    "&\\dfrac{\\partial v_{1i}}{\\partial g} = (\\dfrac{m_1 + m_2}{m_1} \\dfrac{R_{CM} (1 - cos \\theta)}{\\sqrt{2 g R_{CM} (1 - cos \\theta)}}\n",
    "\\\\\n",
    "\\\\\n",
    "&\\dfrac{\\partial v_{1i}}{\\partial \\theta} = (\\dfrac{m_1 + m_2}{m_1} \\dfrac{g R_{CM} sin \\theta}{\\sqrt{2 g R_{CM} (1 - cos \\theta)}}\n",
    "\\end{split}\n",
    "\\end{equation*}\n"
   ]
  },
  {
   "cell_type": "markdown",
   "metadata": {},
   "source": [
    "___\n",
    "___"
   ]
  }
 ],
 "metadata": {
  "kernelspec": {
   "display_name": "Python 3",
   "language": "python",
   "name": "python3"
  },
  "language_info": {
   "codemirror_mode": {
    "name": "ipython",
    "version": 3
   },
   "file_extension": ".py",
   "mimetype": "text/x-python",
   "name": "python",
   "nbconvert_exporter": "python",
   "pygments_lexer": "ipython3",
   "version": "3.4.3"
  }
 },
 "nbformat": 4,
 "nbformat_minor": 0
}
