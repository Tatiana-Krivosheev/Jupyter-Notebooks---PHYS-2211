{
 "cells": [
  {
   "cell_type": "markdown",
   "metadata": {},
   "source": [
    "# PHYS 2211L - Principles of Physics Laboratory I"
   ]
  },
  {
   "cell_type": "markdown",
   "metadata": {},
   "source": [
    "### Laboratory Advanced Sheet\n",
    "### Measurement Lab"
   ]
  },
  {
   "cell_type": "markdown",
   "metadata": {},
   "source": [
    "_____\n",
    "_____"
   ]
  },
  {
   "cell_type": "markdown",
   "metadata": {},
   "source": [
    "**Objective**. \n",
    "* To introduce three measuring devices used in experiments in classical mechanics.\n",
    "* To introduce propagation of error."
   ]
  },
  {
   "cell_type": "markdown",
   "metadata": {},
   "source": [
    "**Procedures**.\n",
    "* Your instructor will describe the proper use of the ruler, vernier caliper and triple-beam balance.\n",
    "* You will perform measurements on two objects to determine the density of each. The masses of the objects will be measured using the triple-beam balance. The dimension(s) of the objects will be measured using the ruler or vernier caliper.\n",
    "* Record your data in the tables provided. All tabulated data should be recorded in units of centimeters.\n",
    "* Use the Excel spreadsheet program to calculate the following quantities:\n",
    "    1. Volumes of the two objects as measured by the two measuring devices.\n",
    "    2. Uncertainties in the volumes of the two objects as\n",
    "measured by the two measuring devices.\n",
    "    3. Densities of the two objects as measured by the three measuring devices.\n",
    "* Calculate the mass densities of the objects. The mass density of an object is given by:\n",
    "\n",
    ">$$\\rho = \\frac{m}{V}$$\n",
    "\n",
    ">where \n",
    ">>$\\rho$ is the mass density of an object,  \n",
    "$m$ is the mass of the object, and  \n",
    "$V$ is the volume of the object.  \n",
    "\n",
    "Useful equations for calculating volumes are:\n",
    "\n",
    ">$$V_{block} = lwh$$\n",
    "\n",
    ">where\n",
    ">>$l$, $w$, and $h$ are the length, width and height of the block. \n",
    "\n",
    ">\\begin{equation*}\n",
    "\\begin{split}\n",
    "V_{sphere} &=\\dfrac{4}{3} \\pi {(\\dfrac{d}{2})}^3\\\\\n",
    "& =\\dfrac{4}{3} \\pi {r}^3\n",
    "\\end{split}\n",
    "\\end{equation*}\n",
    "\n",
    ">where  \n",
    ">>$d$ and $r$ are the diameter and radius of the sphere.\n",
    "\n",
    "* After you have calculated the mass densities of each object, your instructor will provide you their actual densities. Calculate the percent discrepancy between the measured and actual mass densities."
   ]
  },
  {
   "cell_type": "markdown",
   "metadata": {},
   "source": [
    "**Data and Calculations**. Tables are provided in Annex A for recording your measurements and calculations."
   ]
  },
  {
   "cell_type": "markdown",
   "metadata": {},
   "source": [
    "**Conclusions**. Report the densities of the objects and the uncertainties in the densities of the objects. Report the percent discrepancy and percent fractional error for each object. Report the dominant error type for each object."
   ]
  },
  {
   "cell_type": "markdown",
   "metadata": {},
   "source": [
    "_____"
   ]
  },
  {
   "cell_type": "markdown",
   "metadata": {},
   "source": [
    "<h3 align='center'> Annex A  </h3>\n",
    "<h3 align='center'> Data and Calculations  </h3>"
   ]
  },
  {
   "cell_type": "code",
   "execution_count": 1,
   "metadata": {
    "collapsed": true
   },
   "outputs": [],
   "source": [
    "class ListTable(list):\n",
    "    \"\"\" Overridden list class which takes a 2-dimensional list of \n",
    "        the form [[1,2,3],[4,5,6]], and renders an HTML Table in \n",
    "        IPython Notebook. \"\"\"\n",
    "    \n",
    "    def _repr_html_(self):\n",
    "        html = [\"<table>\"]\n",
    "        for row in self:\n",
    "            html.append(\"<tr>\")\n",
    "            \n",
    "            for col in row:\n",
    "                html.append(\"<td>{0}</td>\".format(col))\n",
    "            \n",
    "            html.append(\"</tr>\")\n",
    "        html.append(\"</table>\")\n",
    "        return ''.join(html)"
   ]
  },
  {
   "cell_type": "markdown",
   "metadata": {},
   "source": [
    "#### 1. Rectangular block"
   ]
  },
  {
   "cell_type": "code",
   "execution_count": 2,
   "metadata": {
    "collapsed": false
   },
   "outputs": [
    {
     "ename": "SyntaxError",
     "evalue": "invalid syntax (<ipython-input-2-b035141431b8>, line 2)",
     "output_type": "error",
     "traceback": [
      "\u001b[1;36m  File \u001b[1;32m\"<ipython-input-2-b035141431b8>\"\u001b[1;36m, line \u001b[1;32m2\u001b[0m\n\u001b[1;33m    R_dim_list = [,\u001b[0m\n\u001b[1;37m                  ^\u001b[0m\n\u001b[1;31mSyntaxError\u001b[0m\u001b[1;31m:\u001b[0m invalid syntax\n"
     ]
    }
   ],
   "source": [
    "# List List of dimensions (in cm) measured by ruler and vernier caliper. [l,w,h]\n",
    "R_dim_list = [,\n",
    "              ,\n",
    "              ]\n",
    "\n",
    "VC_dim_list = [,\n",
    "               ,\n",
    "               ]\n",
    "\n",
    "\n",
    "# Uncertainties (in cm) in the meaurements made by ruler and vernier caliper. [dl,dw,dh]\n",
    "err_R = \n",
    "err_VC = \n",
    "\n",
    "\n",
    "# Table of dimensions and uncertainties for the rectangular block.\n",
    "print(\"Table 1: Dimensions and uncertainties for rectangular block.\")\n",
    "table = ListTable()\n",
    "table.append(['measuring device',\n",
    "              'l (cm)',\n",
    "              '$\\delta$l (cm)',\n",
    "              'w (cm)',\n",
    "              '$\\delta$w (cm)',\n",
    "              'h (cm)',\n",
    "              '$\\delta$h (cm)'])\n",
    "table.append(['ruler',\n",
    "              R_dim_list[0],\n",
    "              err_R,\n",
    "              R_dim_list[1],\n",
    "              err_R,\n",
    "              R_dim_list[2],\n",
    "              err_R])\n",
    "table.append(['vernier caliper',\n",
    "              VC_dim_list[0],\n",
    "              err_VC,\n",
    "              VC_dim_list[1],\n",
    "              err_VC,\n",
    "              VC_dim_list[2],\n",
    "              err_VC]) \n",
    "table"
   ]
  },
  {
   "cell_type": "markdown",
   "metadata": {},
   "source": [
    "#### 2. Sphere"
   ]
  },
  {
   "cell_type": "code",
   "execution_count": 3,
   "metadata": {
    "collapsed": false
   },
   "outputs": [
    {
     "ename": "SyntaxError",
     "evalue": "invalid syntax (<ipython-input-3-42a800914e83>, line 2)",
     "output_type": "error",
     "traceback": [
      "\u001b[1;36m  File \u001b[1;32m\"<ipython-input-3-42a800914e83>\"\u001b[1;36m, line \u001b[1;32m2\u001b[0m\n\u001b[1;33m    R =\u001b[0m\n\u001b[1;37m        ^\u001b[0m\n\u001b[1;31mSyntaxError\u001b[0m\u001b[1;31m:\u001b[0m invalid syntax\n"
     ]
    }
   ],
   "source": [
    "# Measurement (in cm) of diameter by ruler and vernier caliper.\n",
    "R = \n",
    "VC = \n",
    "\n",
    "\n",
    "# Uncertainty (in cm) of measurement of diamter by ruler and vernier caliper.\n",
    "err_R = err_Ruler_diam = \n",
    "err_VC = err_Vernier_diam = \n",
    "\n",
    "\n",
    "# Table of diameter and uncertainties for spere.\n",
    "print(\"Table 2: Diameter and uncertainty in meaurements made by ruler and vernier caliper.\")\n",
    "table = ListTable()\n",
    "table.append(['measuring device',\n",
    "              'd (cm)',\n",
    "              '$\\delta$d (cm)'])\n",
    "table.append(['ruler',\n",
    "              R,\n",
    "              err_R])\n",
    "table.append(['vernier caliper',\n",
    "              VC,\n",
    "              err_VC])  \n",
    "table"
   ]
  },
  {
   "cell_type": "markdown",
   "metadata": {},
   "source": [
    "#### 3. Masses and uncertainties in grams."
   ]
  },
  {
   "cell_type": "code",
   "execution_count": 4,
   "metadata": {
    "collapsed": false
   },
   "outputs": [
    {
     "ename": "SyntaxError",
     "evalue": "invalid syntax (<ipython-input-4-436f6fab693b>, line 2)",
     "output_type": "error",
     "traceback": [
      "\u001b[1;36m  File \u001b[1;32m\"<ipython-input-4-436f6fab693b>\"\u001b[1;36m, line \u001b[1;32m2\u001b[0m\n\u001b[1;33m    mB =  # Mass of block.\u001b[0m\n\u001b[1;37m                          ^\u001b[0m\n\u001b[1;31mSyntaxError\u001b[0m\u001b[1;31m:\u001b[0m invalid syntax\n"
     ]
    }
   ],
   "source": [
    " # Mass (in grams) of block and sphere\n",
    "mB =  # Mass of block.\n",
    "mS =  # Mass of sphere.\n",
    "\n",
    "\n",
    "# Uncertainty in mass (in grams) of block and sphere.\n",
    "err_B =  # Uncertainty in mass of block.\n",
    "err_S =  # Uncertainty in mass of sphere.\n",
    "\n",
    "\n",
    "# Table of masses and uncertainties in grams of block and sphere.\n",
    "print(\"Table 3: Mass and uncertainties in measurements of block and sphere.\")\n",
    "table = ListTable()\n",
    "table.append(['block',\n",
    "              '',\n",
    "              'sphere',\n",
    "              ''])\n",
    "table.append(['m (g)',\n",
    "              '$\\delta$m (g)',\n",
    "              'm (g)',\n",
    "              '$\\delta$m (g)'])\n",
    "table.append([mB,\n",
    "              err_B,\n",
    "              mS,\n",
    "              err_S])  \n",
    "table"
   ]
  },
  {
   "cell_type": "markdown",
   "metadata": {},
   "source": [
    "_____\n",
    "_____"
   ]
  }
 ],
 "metadata": {
  "kernelspec": {
   "display_name": "Python 3",
   "language": "python",
   "name": "python3"
  },
  "language_info": {
   "codemirror_mode": {
    "name": "ipython",
    "version": 3
   },
   "file_extension": ".py",
   "mimetype": "text/x-python",
   "name": "python",
   "nbconvert_exporter": "python",
   "pygments_lexer": "ipython3",
   "version": "3.4.3"
  }
 },
 "nbformat": 4,
 "nbformat_minor": 0
}
