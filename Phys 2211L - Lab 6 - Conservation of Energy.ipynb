{
 "cells": [
  {
   "cell_type": "markdown",
   "metadata": {},
   "source": [
    "# PHYS 2211L - Principles of Physics Laboratory I"
   ]
  },
  {
   "cell_type": "markdown",
   "metadata": {},
   "source": [
    "#### Laboratory Advanced Sheet\n",
    "#### Conservation of Energy"
   ]
  },
  {
   "cell_type": "markdown",
   "metadata": {},
   "source": [
    "_____\n",
    "_____"
   ]
  },
  {
   "cell_type": "markdown",
   "metadata": {},
   "source": [
    "**Objective**. To test the law of conservation of energy."
   ]
  },
  {
   "cell_type": "markdown",
   "metadata": {},
   "source": [
    "**Theory**. This laboratory investigates the motion of a connected two-body system using the law of conservation of mechanical energy. One mass slides along an inclined air track, and the second mass hangs freely. Assumptions include a frictionless surface, an ideal pulley and an inextensible string connecting the masses.\n",
    "\n",
    "<img src=\"http://localhost:8888/files/Pictures/COE_Fig.%201.gif\">\n",
    "\n",
    ">The figure above describes the geometry of the experiment and identifies the symbols used in this report. The masses are released from rest with m1 at height h0 above the table on which the inclined air track rests. The heights h0, h1, h2 may also be measured from the floor to avoid problems with tables which are not level. Photogates are placed along the air track at positions 2 and 3, allowing measurement of the speed of the cart (and mass, m2, since it is attached to the cart) at those points. The photogates report the amount of time they are blocked by the moving cart through a computer interface. The potential energies of the masses with respect to the locations of zero potential energy for each are determined by measurements of heights at the three positions for each.\n",
    "\n",
    "Conservation of energy states:\n",
    "\n",
    ">\\begin{equation*}\n",
    "\\begin{split}\n",
    "W_{nc} & = \\Delta E = E_f - E_i\\\\  \n",
    "& = \\sum{K_f + U_f} - \\sum{K_i + K_f}\n",
    "\\end{split}\n",
    "\\end{equation*}\n",
    "\n",
    ">where\n",
    ">>$W_{nc}$ is the work done by nonconservative forces,  \n",
    "$E$ is the total mechanical energy,  \n",
    "$K$ is kinetic energy,  \n",
    "$U$ is potential energy (in this laboratory, gravitational potential energy), and  \n",
    "$i$ and $f$ are subscripts referring to initial and final.\n",
    "\n",
    "Since we are neglecting frictional effects, there are no nonconservative forces present in the system. This reduces the conservation of energy equation to the conservation of mechanical energy:\n",
    "\n",
    "$$\\Delta = 0$$\n",
    "\n",
    "$$or$$\n",
    "\n",
    "$$E_f = E_i = \\sum K + \\sum U = constant$$\n",
    "\n",
    "The total mechanical energy at each of the three positions can be expressed as\n",
    "\n",
    "* Position 1.\n",
    "\n",
    "$$E_1 = m_1gh_0 + m_2g(d_1 + d_2)$$\n",
    "\n",
    "* Position 2.\n",
    "\n",
    "$$E_2 = \\frac{1}{2}m_1v^2 + m_1gh_1 + \\frac{1}{2}m_2v^2 + m_2gh_2$$\n",
    "\n",
    "* Position 3.\n",
    "\n",
    "$$E_3= \\frac{1}{2}m_1V^2 + m_1gh_2 + \\frac{1}{2}m_2V^2$$\n",
    "\n",
    "Since,\n",
    ">$$E_1 = E_2 = E_3$$\n",
    "\n",
    "manipulation of the energy equations allows the speeds, v and V, to be written as\n",
    ">$$v = \\sqrt{\\dfrac{2[m_1(h_0-h_1)+m_2d_1]g}{(m_1 + m_2)}}$$\n",
    "\n",
    ">$$V = \\sqrt{\\dfrac{2[m_1(h_0-h_2)+m_2(d_1+d_2)]g}{(m_1 + m_2)}}$$\n",
    "\n",
    "The speeds predicted by the equations above will be compared to the speeds determined by photogate measurements:\n",
    "\n",
    ">$$v_m = \\dfrac{L}{t}$$\n",
    "\n",
    ">$$V_m = \\dfrac{L}{T}$$\n",
    "\n",
    ">where\n",
    "\n",
    ">>$L$ is the length of the cart, $t$ and $T$ are the times required for the cart to pass through the photogates at positions where $v$ and $V$ are determined."
   ]
  },
  {
   "cell_type": "markdown",
   "metadata": {},
   "source": [
    "**Apparatus and experimental procedures**.\n",
    "* Equipment.\n",
    "    1. Meter stick.\n",
    "    2. Vernier calipers.\n",
    "    3. Triple-beam balance.\n",
    "    4. Air track, cart and blower.\n",
    "    5. Pulley.\n",
    "    6. Masses.\n",
    "    7. Thread.\n",
    "    8. Photogates (2).\n",
    "    9. Computer interface and computer.\n",
    "    10. Concrete block.\n",
    "* Experimental setup. The experimental setup for the measurements is provided in the theory section of this report.\n",
    "* Capabilities. To be provided by the student.\n"
   ]
  },
  {
   "cell_type": "markdown",
   "metadata": {},
   "source": [
    "**Requirements**.\n",
    "* In the laboratory. Tables for recording measurements are provided in Annex B. \n",
    "    1. Your instructor will introduce you to the equipment to be used in the experiment.\n",
    "    2. Measure the length of the cart with the vernier calipers.\n",
    "    3. With the blower on, release the cart from its initial position. Using the photogates and computer, make five (5) measurements of the time required for the cart to pass each photogate.\n",
    "    4. Make measurements of the heights and positions along the air track for the following: center of mass of the cart at its initial position, and the center of mass of the cart as it passes through the center of each photogate.\n",
    "    5. Measure the masses of the cart (m1) and the second mass (m2).\n",
    "* After the laboratory. The items listed below will be turned in at the beginning of the next laboratory period. A complete laboratory report is not required for this laboratory. Use the spreadsheet program provided, ConsofEnergy.xls, to make your calculations.\n",
    "\n",
    "**Para. 3. Apparatus and experimental procedures**. Provide a description of the capabilities of the equipment used in the experiment (para 3c).\n",
    "\n",
    "**Para. 4. Data**.\n",
    "    1. Original data sheets (Annex B).\n",
    "    2. Spreadsheet with calculations using your data.\n",
    "    3. Derivations required in Annex A.\n",
    "\n",
    "**Para. 5. Results and Conclusions**.\n",
    "* **Results**.\n",
    "    1. A statement of the predicted speeds, v and V, and their uncertainties.\n",
    "    2. A statement of the speeds measured using the photogates, vm and Vm, and their uncertainties.\n",
    "    3. A statement of the percent discrepancies between the predicted speeds and the speeds measured using the photogates.\n",
    "    4. A statement of the percent fractional error in the speeds (both predicted and measured using the photogates).\n",
    "    5. A statement of the type of error that dominates in the experiment.\n",
    "* **Conclusions**. \n",
    "    1. Describe sources of systematic error in the experiment.\n",
    "    2. Describe sources of random error in the experiment.\n",
    "    3. Determine the major source of random error in the experiment and describe how it could be reduced.\n"
   ]
  },
  {
   "cell_type": "markdown",
   "metadata": {},
   "source": [
    "<h3 align='center'> Annex A </h3>\n",
    "<h3 align='center'> Derivations for Calculations </h3>"
   ]
  },
  {
   "cell_type": "markdown",
   "metadata": {},
   "source": [
    "* The kinetic energy (K), potential energy (U), and total mechanical energy (E) at positions 1, 2 and 3 of the diagram, provided in the theory section of the advanced sheet, are given in the following table (**complete the table**; use the symbol, v, for the velocity at position 2, and V, for the velocity at position 3)."
   ]
  },
  {
   "cell_type": "markdown",
   "metadata": {
    "collapsed": true
   },
   "source": [
    "|Position|Mass|            K|              U|E                    |\n",
    "|:------:|:--:|:-----------:|:-------------:|:-:                  |\n",
    "|       1|   1|            0|      $m_1gh_0$|                     |  \n",
    "|       1|   2|             |$m_2g(d_1+d_2)$|                     |  \n",
    "|       2|   1|             |               |                     |\n",
    "|       2|   2|$(1/2)m_2v^2$|               |                     |  \n",
    "|       3|   1|             |               |$(1/2)m_1V^2+m_1gh_2$|\n",
    "|       3|   2|             |               |                     |"
   ]
  },
  {
   "cell_type": "markdown",
   "metadata": {},
   "source": [
    "* The calculations associated with the propagation of error are tedious and are, therefore, computed in a spreadsheet to avoid numerical mistakes. The ExcelTM spreadsheet file name is ConsofEnergy.xls Example derivations of the formulas used in the spreadsheet are provided.\n",
    "    1. d1, the distance between the initial position and the first photogate:    \n",
    ">\\begin{equation*}\n",
    "d_1 = p_1 - p_0\\\\\n",
    "\\delta d_1 = \\sqrt{(\\delta p_1)^2 + (\\delta p_0)^2)}\n",
    "\\end{equation*}\n",
    "    2. d2 , the distance between the first and the second photogates:\n",
    ">\\begin{equation*}\n",
    "d_2 = p_2 - p_1\\\\\n",
    "\\delta d_2 = \\sqrt{(\\delta p_2)^2 + (\\delta p_1)^2)}\n",
    "\\end{equation*}\n",
    "    3. v, the speed of the masses as the cart passes through the first photogate:\n",
    ">\\begin{equation*}\n",
    "v = \\sqrt{\\dfrac{2[m_1(h_0-h_1)+m_2d_1]g}{(m_1 + m_2)}}\n",
    "\\\\\n",
    "\\end{equation*}\n",
    "<div style=\"text-align: center;\" markdown=\"1\">Derive this equation. </div>\n",
    "    4. $\\delta v$, the uncertainty in the speed of the masses as the cart passes through the first photogate:\n",
    ">\\begin{equation*}\n",
    "\\delta v = \\sqrt{(\\dfrac{\\partial v}{\\partial m_1} \\delta m_1)^2 + (\\dfrac{\\partial v}{\\partial m_2} \\delta m_2)^2 + (\\dfrac{\\partial v}{\\partial h_0} \\delta h_0)^2 + (\\dfrac{\\partial v}{\\partial h_1} \\delta h_1)^2 + (\\dfrac{\\partial v}{\\partial d_1} \\delta d_1)^2 + (\\dfrac{\\partial v}{\\partial g} \\delta g)^2}\n",
    "\\end{equation*} \n",
    "    5. V, the speed of the masses as the cart passes through the second photogate:\n",
    ">\\begin{equation*}\n",
    "V = \\sqrt{\\dfrac{2[m_1(h_0-h_2)+m_2(d_1+d_2)]g}{(m_1 + m_2)}}\n",
    "\\end{equation*}\n",
    "where\n",
    ">>\\begin{equation*}\n",
    "\\begin{split}\n",
    "&\\dfrac{\\partial v}{\\partial m_1} = - \\dfrac{m_2 g [d_1 - (h_0 - h_1)]}{(m_1 + m_2)^2 v}\n",
    "\\\\\n",
    "\\\\\n",
    "&\\dfrac{\\partial v}{\\partial h_0} = \\dfrac{m_1 g}{(m_1 + m_2) v}\n",
    "\\\\\n",
    "\\\\\n",
    "&\\dfrac{\\partial v}{\\partial m_2} = \\dfrac{m_1 g[d_1- (h_0 - h_1)]}{(m_1 + m_2)^2 v} \n",
    "\\\\\n",
    "\\\\\n",
    "&\\dfrac{\\partial v}{\\partial h_1} = - \\dfrac {m_1 g}{(m_1 + m_2) v}\n",
    "\\\\\n",
    "\\\\\n",
    "&\\dfrac{\\partial v}{\\partial d_1} = \\dfrac{m_2 g}{(m_1 + m_2) v}\n",
    "\\\\\n",
    "\\\\\n",
    "&\\dfrac{\\partial v}{\\partial g}   = \\dfrac{m_1 (h_0 - h_1) + m_2 d_1}{(m_1 + m_2) v}\n",
    "\\end{split}\n",
    "\\end{equation*} \n",
    "<div style=\"text-align: center;\" markdown=\"1\">Provide the derivation of the partial derivative of the speed at position 2 with respect to m1. </div>\n",
    "    6. V, the speed of the masses as the cart passes through the second photogate:\n",
    ">\\begin{equation*}\n",
    "V = \\sqrt{\\dfrac{2 [m_1 (h_0 - h_2) + m_2 (d_1 + d_2)] g}{(m_1 + m_2)}}\n",
    "\\\\\n",
    "\\end{equation*}\n",
    "    7. $\\delta V$, the uncertainty in the speed of the masses as the cart passes\n",
    ">\\begin{equation*}\n",
    "\\delta V = \\sqrt{(\\dfrac{\\partial V}{\\partial m_1} \\delta m_1)^2 + (\\dfrac{\\partial V}{\\partial m_2} \\delta m_2)^2 + (\\dfrac{\\partial V}{\\partial h_0} \\delta h_0)^2 + (\\dfrac{\\partial V}{\\partial h_1} \\delta h_1)^2 + (\\dfrac{\\partial V}{\\partial d_1} \\delta d_1)^2 +\n",
    "(\\dfrac{\\partial V}{\\partial d_2} \\delta d_2)^2 +\n",
    "(\\dfrac{\\partial V}{\\partial g} \\delta g)^2}\n",
    "\\end{equation*} \n",
    "where\n",
    ">>\\begin{equation*}\n",
    "\\begin{split}\n",
    "&\\dfrac{\\partial V}{\\partial m_1} = - \\dfrac{m_2 g [(d_1 + d_2) - (h_0 - h_2)]}{(m_1 + m_2)^2 V}\n",
    "\\\\\n",
    "\\\\\n",
    "&\\dfrac{\\partial V}{\\partial m_2} = \\dfrac{m_1 g[(d_1 + d_2) - (h_0 - h_2)]}{(m_1 + m_2)^2 V} \n",
    "\\\\\n",
    "\\\\\n",
    "&\\dfrac{\\partial V}{\\partial h_0} = \\dfrac{m_1 g}{(m_1 + m_2) V}\n",
    "\\\\\n",
    "\\\\\n",
    "&\\dfrac{\\partial V}{\\partial h_1} = - \\dfrac {m_1 g}{(m_1 + m_2) V}\n",
    "\\\\\n",
    "\\\\\n",
    "&\\dfrac{\\partial V}{\\partial d_1} = \\dfrac{m_2 g}{(m_1 + m_2) V}\n",
    "\\\\\n",
    "\\\\\n",
    "&\\dfrac{\\partial V}{\\partial d_1} = \\dfrac{m_2 g}{(m_1 + m_2) V}\n",
    "\\\\\n",
    "\\\\\n",
    "&\\dfrac{\\partial V}{\\partial g}   = \\dfrac{m_1 (h_0 - h_2) + m_2 (d_1 + d_2)}{(m_1 + m_2) V}\n",
    "\\end{split}\n",
    "\\end{equation*} "
   ]
  },
  {
   "cell_type": "markdown",
   "metadata": {},
   "source": [
    "_____"
   ]
  },
  {
   "cell_type": "markdown",
   "metadata": {},
   "source": [
    "<h3 align='center'> Annex B </h3>\n",
    "<h3 align='center'> Data </h3>"
   ]
  },
  {
   "cell_type": "code",
   "execution_count": 1,
   "metadata": {
    "collapsed": true
   },
   "outputs": [],
   "source": [
    "class ListTable(list):\n",
    "    \"\"\" Overridden list class which takes a 2-dimensional list of \n",
    "        the form [[1,2,3],[4,5,6]], and renders an HTML Table in \n",
    "        IPython Notebook. \"\"\"\n",
    "    \n",
    "    def _repr_html_(self):\n",
    "        html = [\"<table>\"]\n",
    "        for row in self:\n",
    "            html.append(\"<tr>\")\n",
    "            \n",
    "            for col in row:\n",
    "                html.append(\"<td>{0}</td>\".format(col))\n",
    "            \n",
    "            html.append(\"</tr>\")\n",
    "        html.append(\"</table>\")\n",
    "        return ''.join(html)"
   ]
  },
  {
   "cell_type": "code",
   "execution_count": 2,
   "metadata": {
    "collapsed": true
   },
   "outputs": [],
   "source": [
    "import collections\n",
    "import statistics"
   ]
  },
  {
   "cell_type": "markdown",
   "metadata": {},
   "source": [
    "#### 1) Masses, positions and heights."
   ]
  },
  {
   "cell_type": "code",
   "execution_count": 3,
   "metadata": {
    "collapsed": false
   },
   "outputs": [
    {
     "ename": "SyntaxError",
     "evalue": "invalid syntax (<ipython-input-3-65d5d912ed1d>, line 1)",
     "output_type": "error",
     "traceback": [
      "\u001b[1;36m  File \u001b[1;32m\"<ipython-input-3-65d5d912ed1d>\"\u001b[1;36m, line \u001b[1;32m1\u001b[0m\n\u001b[1;33m    tuple = (('m1',[,,'kg']),\u001b[0m\n\u001b[1;37m                    ^\u001b[0m\n\u001b[1;31mSyntaxError\u001b[0m\u001b[1;31m:\u001b[0m invalid syntax\n"
     ]
    }
   ],
   "source": [
    "tuple = (('m1',[,,'kg']),\n",
    "         ('m2',[,,'kg']),\n",
    "         ('p0',[,,'m']),\n",
    "         ('p1',[,,'m']),\n",
    "         ('p2',[,,'m']),\n",
    "         ('h0',[,,'m']),\n",
    "         ('h1',[,,'m']),\n",
    "         ('h2',[,,'m']))\n",
    "'''tuple = (('measurement',[value,err_value,'unit]),...)'''\n",
    "\n",
    "my_ord_dict = collections.OrderedDict(tuple)\n",
    "\n",
    "table = ListTable()\n",
    "table.append(['Quantity','Value','$\\delta_{value}$','Units'])\n",
    "for item in my_ord_dict:\n",
    "    table.append([item,my_ord_dict[item][0],\n",
    "                  my_ord_dict[item][1],\n",
    "                  my_ord_dict[item][2]])\n",
    "table"
   ]
  },
  {
   "cell_type": "markdown",
   "metadata": {},
   "source": [
    "#### 2) Times for cart to pass through photogates."
   ]
  },
  {
   "cell_type": "code",
   "execution_count": 4,
   "metadata": {
    "collapsed": false
   },
   "outputs": [
    {
     "ename": "SyntaxError",
     "evalue": "invalid syntax (<ipython-input-4-32bb900701ec>, line 1)",
     "output_type": "error",
     "traceback": [
      "\u001b[1;36m  File \u001b[1;32m\"<ipython-input-4-32bb900701ec>\"\u001b[1;36m, line \u001b[1;32m1\u001b[0m\n\u001b[1;33m    t_tuple = ((1,[,]),\u001b[0m\n\u001b[1;37m                   ^\u001b[0m\n\u001b[1;31mSyntaxError\u001b[0m\u001b[1;31m:\u001b[0m invalid syntax\n"
     ]
    }
   ],
   "source": [
    "t_tuple = ((1,[,]),\n",
    "           (2,[,]),\n",
    "           (3,[,]),\n",
    "           (4,[,]),\n",
    "           (5,[,]))\n",
    "\n",
    "ti_list = []\n",
    "tf_list = []\n",
    "\n",
    "t_ord_dict = collections.OrderedDict(t_tuple)\n",
    "\n",
    "table = ListTable()\n",
    "table.append(['Trial','t(s) at Position 2','t(s) at Position 3'])\n",
    "for item in t_ord_dict:\n",
    "    ti_list.append(t_ord_dict[item][0])\n",
    "    tf_list.append(t_ord_dict[item][1])\n",
    "    table.append([item,\n",
    "                  t_ord_dict[item][0],\n",
    "                  t_ord_dict[item][1]])\n",
    "mean_ti = statistics.mean(ti_list)\n",
    "mean_tf = statistics.mean(tf_list)\n",
    "std_ti = statistics.stdev(ti_list)\n",
    "std_tf = statistics.stdev(tf_list)\n",
    "table.append(['mean',mean_ti,mean_tf])\n",
    "table.append(['stds',std_ti,std_tf])\n",
    "table"
   ]
  },
  {
   "cell_type": "markdown",
   "metadata": {},
   "source": [
    "#### 3) Length of cart."
   ]
  },
  {
   "cell_type": "code",
   "execution_count": 5,
   "metadata": {
    "collapsed": false
   },
   "outputs": [
    {
     "ename": "SyntaxError",
     "evalue": "invalid syntax (<ipython-input-5-01116f42cb9c>, line 1)",
     "output_type": "error",
     "traceback": [
      "\u001b[1;36m  File \u001b[1;32m\"<ipython-input-5-01116f42cb9c>\"\u001b[1;36m, line \u001b[1;32m1\u001b[0m\n\u001b[1;33m    L =  # (in cm)\u001b[0m\n\u001b[1;37m                      ^\u001b[0m\n\u001b[1;31mSyntaxError\u001b[0m\u001b[1;31m:\u001b[0m invalid syntax\n"
     ]
    }
   ],
   "source": [
    "L =  # (in cm)    \n",
    "err_L =  #(in cm)\n",
    "\n",
    "table = ListTable()\n",
    "table.append(['L (m)','$\\delta$L (m)'])\n",
    "table.append([L,err_L])\n",
    "table"
   ]
  },
  {
   "cell_type": "markdown",
   "metadata": {},
   "source": [
    "_____\n",
    "_____"
   ]
  }
 ],
 "metadata": {
  "kernelspec": {
   "display_name": "Python 3",
   "language": "python",
   "name": "python3"
  },
  "language_info": {
   "codemirror_mode": {
    "name": "ipython",
    "version": 3
   },
   "file_extension": ".py",
   "mimetype": "text/x-python",
   "name": "python",
   "nbconvert_exporter": "python",
   "pygments_lexer": "ipython3",
   "version": "3.4.3"
  }
 },
 "nbformat": 4,
 "nbformat_minor": 0
}
