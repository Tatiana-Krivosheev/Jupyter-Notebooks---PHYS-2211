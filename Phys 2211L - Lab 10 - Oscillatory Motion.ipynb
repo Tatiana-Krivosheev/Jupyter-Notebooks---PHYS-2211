{
 "cells": [
  {
   "cell_type": "markdown",
   "metadata": {},
   "source": [
    "# PHYS 2211L - Principles of Physics Laboratory I"
   ]
  },
  {
   "cell_type": "markdown",
   "metadata": {},
   "source": [
    "### laboratory Advanced Sheet\n",
    "### Oscillatory Motion"
   ]
  },
  {
   "cell_type": "markdown",
   "metadata": {},
   "source": [
    "_____\n",
    "_____"
   ]
  },
  {
   "cell_type": "markdown",
   "metadata": {},
   "source": [
    "**Objectives**.\n",
    "* To experimentally determine the spring constant of a spring.\n",
    "* To experimentally determine the period of a spring-mass system from position versus time data.\n",
    "* To compare the experimentally determined period of a spring-mass system to that predicted by theory.\n"
   ]
  },
  {
   "cell_type": "markdown",
   "metadata": {},
   "source": [
    "**Theory**.\n",
    "* A mass attached to a vertically oriented spring will cause the spring to be extended downward to an equilibrium position with the amount of extension being proportional to the weight of the attached mass. Application of Newton's 2nd law to such a vertical spring-mass system yields\n",
    "\n",
    ">$$m g = k y_0$$\n",
    "\n",
    ">where  \n",
    ">>$m$ is the mass attached to the spring,  \n",
    "$g$ is the acceleration due to gravity,   \n",
    "$k$ is the spring constant, and  \n",
    "$y_0$ is the equilibrium vertical position of mass, $m$.  \n",
    "\n",
    ">If a variety of masses are attached to the spring and the equilibrium vertical position is measured for each, a graph of weight, $mg$, versus equilibrium vertical position, $y_0$, should be a straight line with slope equal to the spring constant. A linear regression of the weight versus equilibrium position data will provide the best estimate for the value of the spring constant and its uncertainty.\n",
    "\n",
    "* The differential equation of motion for a spring-mass system is given by\n",
    "\n",
    ">$$\\dfrac{d^2y}{dt^2} = g - \\dfrac{k}{m}y$$\n",
    "\n",
    ">where\n",
    ">>$y$ is the vertical position of the mass as a function of time and $t$ is time,\n",
    "\n",
    "* The solution of the this differential equation is\n",
    "\n",
    ">$$y = y_0 + A cos(\\omega t + \\phi)$$\n",
    "\n",
    ">where\n",
    ">>$A$ is the amplitude of motion,  \n",
    "$y_0$ is the equilibrium position of the mass,  \n",
    "$\\omega$ is the angular frequency, and  \n",
    "$\\phi$ is the phase constant.\n",
    "\n",
    ">where\n",
    ">>$$y_0 = \\dfrac{mg}{k}$$\n",
    "\n",
    ">and\n",
    "\n",
    ">>$$\\omega = \\sqrt{\\frac{k}{m}}$$\n",
    "\n",
    "* The period of the spring-mass system is then\n",
    "\n",
    ">$$T = 2 \\pi \\sqrt{\\frac{m}{k}}$$\n",
    "\n",
    "\n",
    "* In this experiment the period of the spring-mass system will be determined from the measured values of the spring constant (see paragraph 2a above) and the mass. This period will then be compared to measurements of the period determined from position versus time data. The position versus time data will be measured using a motion sensor."
   ]
  },
  {
   "cell_type": "markdown",
   "metadata": {},
   "source": [
    "**Apparatus and experimental procedures**.\n",
    "* Equipment.\n",
    "    1. Apparatus for determination of spring constant.\n",
    "    2. Spring.\n",
    "    3. Mass set and mass hanger.\n",
    "    4. Triple-beam balance.\n",
    "    5. Clamps and rods.\n",
    "    6. Ultrasonic motion detector.\n",
    "    7. Computer interface and computer.\n",
    "* Experimental setup. The experimental setups are shown in Figure 1 and 2 (to be provided by the student).\n",
    "* Capabilities. To be provided by the student."
   ]
  },
  {
   "cell_type": "markdown",
   "metadata": {},
   "source": [
    "**Requirements**.\n",
    "* In the laboratory.\n",
    "    1. Using a minimum of eight different masses, measure the vertical equilibrium positions of the spring-mass systems.\n",
    "    2. Using the ultrasonic motion detector set to sample position of the mass in the spring mass system 50 times per second, measure the vertical position of the mass as a function of time for at least 120 s.\n",
    "    3. Using the data derived from the ultrasonic motion detector make ten measurements to determine the period. Each measurement will consist of the time required for the mass to complete ten full cycles and will be independent of each other.\n",
    "* After the laboratory. The items listed below will be turned in at the beginning of the next laboratory period. A complete laboratory report is not required for this laboratory."
   ]
  },
  {
   "cell_type": "markdown",
   "metadata": {},
   "source": [
    "**Para. 2. Theory**. Prove that the equation given in the theory section is actually a solution to the differential equation of motion of a vertically oriented spring-mass system.\n",
    "\n",
    "**Para. 3. Apparatus and experimental procedures**.\n",
    "1. Provide figures for the two experimental setups.\n",
    "2. Provide a description of the capabilities of the equipment used in the experiment.\n",
    "\n",
    "**Para. 4. Data**.\n",
    "1. Provide a copy of your data (Annex A provides tables for data).\n",
    "2. Provide the following in a spreadsheet:\n",
    "    1. A graph of weight versus equilibrium vertical position that shows the data as points and a linear regression as a straight line.\n",
    "    2. A linear regression of the weight versus position data yielding the measured value of the spring constant and its uncertainty.\n",
    "    3. The percent fractional error in the measured value of the spring constant.\n",
    "    4. The predicted value of the period and its uncertainty of the spring-mass system chosen for measurements with the ultrasonic motion detector.\n",
    "    5. The percent fractional error in the predicted value of the period.\n",
    "    6. The measured values of the period from the position versus time data derived from the ultrasonic motion detector data.\n",
    "    7. The mean and standard deviation of the period from the position versus time data derived from the ultrasonic motion detector data.\n",
    "    8. The percent discrepancy between the predicted and measured values of the period.\n",
    "\n",
    "**Para. 5. Results and conclusions**.\n",
    "* **Results**.\n",
    "    1. Provide a statement of the value of the spring constant and its uncertainty.\n",
    "    2. Provide a statement of the percent fractional error in the measured value of the spring constant.\n",
    "    3. Provide a statement of the predicted value of the period of the selected spring-mass system and its uncertainty.\n",
    "    4. Provide a statement of the measured value of the period from the ultrasonic motion detector data and its uncertainty.\n",
    "    5. Provide a statement of the percent discrepancy in the measured value of period.\n",
    "\n",
    "\n",
    "* **Conclusions**.\n",
    "    1. State the dominant error type in the experiment.\n",
    "    2. List sources of systematic error in the experiment.\n",
    "    3. List sources of random error in the experiment.\n"
   ]
  },
  {
   "cell_type": "markdown",
   "metadata": {},
   "source": [
    "_____"
   ]
  },
  {
   "cell_type": "markdown",
   "metadata": {},
   "source": [
    "<h3 align='center'> Annex A </h3>\n",
    "<h3 align='center'> Data </h3>"
   ]
  },
  {
   "cell_type": "code",
   "execution_count": 1,
   "metadata": {
    "collapsed": true
   },
   "outputs": [],
   "source": [
    "class ListTable(list):\n",
    "    \"\"\" Overridden list class which takes a 2-dimensional list of \n",
    "        the form [[1,2,3],[4,5,6]], and renders an HTML Table in \n",
    "        IPython Notebook. \"\"\"\n",
    "    \n",
    "    def _repr_html_(self):\n",
    "        html = [\"<table>\"]\n",
    "        for row in self:\n",
    "            html.append(\"<tr>\")\n",
    "            \n",
    "            for col in row:\n",
    "                html.append(\"<td>{0}</td>\".format(col))\n",
    "            \n",
    "            html.append(\"</tr>\")\n",
    "        html.append(\"</table>\")\n",
    "        return ''.join(html)"
   ]
  },
  {
   "cell_type": "code",
   "execution_count": 2,
   "metadata": {
    "collapsed": true
   },
   "outputs": [],
   "source": [
    "import collections\n",
    "import statistics"
   ]
  },
  {
   "cell_type": "markdown",
   "metadata": {},
   "source": [
    "#### 1) Determination of spring constant."
   ]
  },
  {
   "cell_type": "code",
   "execution_count": 3,
   "metadata": {
    "collapsed": false
   },
   "outputs": [
    {
     "ename": "SyntaxError",
     "evalue": "invalid syntax (<ipython-input-3-81488285004c>, line 2)",
     "output_type": "error",
     "traceback": [
      "\u001b[1;36m  File \u001b[1;32m\"<ipython-input-3-81488285004c>\"\u001b[1;36m, line \u001b[1;32m2\u001b[0m\n\u001b[1;33m    mass_y_dict = {1:[,],\u001b[0m\n\u001b[1;37m                      ^\u001b[0m\n\u001b[1;31mSyntaxError\u001b[0m\u001b[1;31m:\u001b[0m invalid syntax\n"
     ]
    }
   ],
   "source": [
    "# mass_y_dict = {trial:[mass(kg),position(m)],...}\n",
    "mass_y_dict = {1:[,],\n",
    "               2:[,],\n",
    "               3:[,],\n",
    "               4:[,],\n",
    "               5:[,],\n",
    "               6:[,],\n",
    "               7:[,],\n",
    "               8:[,]}\n",
    "\n",
    "table = ListTable()\n",
    "table.append(['mass (kg)','position (m)'])\n",
    "for i in range(0,len(mass_y_dict)):\n",
    "    m = mass_y_dict[i+1][0]\n",
    "    y = mass_y_dict[i+1][1]\n",
    "    table.append([m,y])\n",
    "table"
   ]
  },
  {
   "cell_type": "markdown",
   "metadata": {},
   "source": [
    "#### 2) Data for experiment using the ultrasonic motion detector.     "
   ]
  },
  {
   "cell_type": "code",
   "execution_count": 2,
   "metadata": {
    "collapsed": false
   },
   "outputs": [],
   "source": [
    "# Mass attached to spring.\n",
    "\n",
    "m =  # in kg"
   ]
  },
  {
   "cell_type": "code",
   "execution_count": 4,
   "metadata": {
    "collapsed": false
   },
   "outputs": [
    {
     "ename": "SyntaxError",
     "evalue": "invalid syntax (<ipython-input-4-7c0142b3df9c>, line 1)",
     "output_type": "error",
     "traceback": [
      "\u001b[1;36m  File \u001b[1;32m\"<ipython-input-4-7c0142b3df9c>\"\u001b[1;36m, line \u001b[1;32m1\u001b[0m\n\u001b[1;33m    t_tuple = ((1,[,]),\u001b[0m\n\u001b[1;37m                   ^\u001b[0m\n\u001b[1;31mSyntaxError\u001b[0m\u001b[1;31m:\u001b[0m invalid syntax\n"
     ]
    }
   ],
   "source": [
    "t_tuple = ((1,[,]),\n",
    "           (2,[,]),\n",
    "           (3,[,]),\n",
    "           (4,[,]),\n",
    "           (5,[,]),\n",
    "           (6,[,]),\n",
    "           (7,[,]),\n",
    "           (8,[,]),\n",
    "           (9,[,]),\n",
    "           (10,[,]))\n",
    "\"\"\"t_tuple = ((trial,[ti,tf]),...)\"\"\"\n",
    "\n",
    "t_ord_dict = collections.OrderedDict(t_tuple)\n",
    "\"\"\"t_ord_dict = {trial:[ti,tf],...}\"\"\"\n",
    "\n",
    "table = ListTable()\n",
    "table.append(['trial','$t_{start}$ (s)','$t_{end}$ (s)'])\n",
    "for item in t_ord_dict:\n",
    "    table.append([item,\n",
    "                  t_ord_dict[item][0],\n",
    "                  t_ord_dict[item][1]])\n",
    "table"
   ]
  },
  {
   "cell_type": "markdown",
   "metadata": {},
   "source": [
    "_____\n",
    "_____"
   ]
  }
 ],
 "metadata": {
  "kernelspec": {
   "display_name": "Python 2",
   "language": "python",
   "name": "python2"
  },
  "language_info": {
   "codemirror_mode": {
    "name": "ipython",
    "version": 2
   },
   "file_extension": ".py",
   "mimetype": "text/x-python",
   "name": "python",
   "nbconvert_exporter": "python",
   "pygments_lexer": "ipython2",
   "version": "2.7.11"
  }
 },
 "nbformat": 4,
 "nbformat_minor": 0
}
