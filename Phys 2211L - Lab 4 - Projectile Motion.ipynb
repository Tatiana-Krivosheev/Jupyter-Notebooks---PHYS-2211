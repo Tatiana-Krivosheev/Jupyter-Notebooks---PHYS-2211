{
 "cells": [
  {
   "cell_type": "markdown",
   "metadata": {},
   "source": [
    "# PHYS 2211L - Principles of Physics Laboratory I"
   ]
  },
  {
   "cell_type": "markdown",
   "metadata": {},
   "source": [
    "### Loboratory Advanced Sheet\n",
    "### Projectile Motion Laboratory"
   ]
  },
  {
   "cell_type": "markdown",
   "metadata": {},
   "source": [
    "_____\n",
    "_____"
   ]
  },
  {
   "cell_type": "markdown",
   "metadata": {},
   "source": [
    "**Objective**. The objective of this laboratory is to predict the range of a projectile set in motion at an arbitrary angle."
   ]
  },
  {
   "cell_type": "markdown",
   "metadata": {},
   "source": [
    "**Theory**.\n",
    "* General. Neglecting air resistance, an object set in motion near the surface of the Earth over short ranges experiences no acceleration along the horizontal direction and constant acceleration due to gravity along the vertical direction. The range can be predicted if the initial position and initial velocity of the projectile are known.\n",
    "* Model. The general expressions for the position of an object undergoing two-dimensional motion with constant acceleration are\n",
    "\n",
    ">$$x = x_0 + v_{0x}t + (1/2)a_xt^2$$\n",
    "$$y = y_0 + V_{0y}t + (1/2)a_yt^2$$\n",
    "\n",
    ">where   \n",
    ">>($x$,$y$) is the position of the object at time t,    \n",
    "($x_0$,$y_0$) is the initial position of the object (at time $t$ = 0),    \n",
    "$v_{0x}$ and $v_{0y}$ are the $x$ and $y$ components of initial velocity of the object, and    \n",
    "$a_x$ and $a_y$ are the $x$ and $y$ components of the constant acceleration of the object.  \n",
    "\n",
    ">For the case of an object set in motion near the surface of the Earth over short ranges and neglecting the effects of air resistance, the general expressions become\n",
    "\n",
    ">$$x = x_0 + v_{0x}t$$\n",
    "$$y = y_0 + V_{0y}t + (1/2)gt^2$$\n",
    "\n",
    ">where  \n",
    ">>x is the position measured along an axis horizontal to the ground in the plane of the trajectory,  \n",
    "y is the position measured along a vertical axis in the plane of the trajectory, and  \n",
    "g is the local value of the acceleration due to gravity. \n",
    "\n",
    ">The minus sign in the equation reflects the selection of the direction away from the center of the Earth as positive. The origin of the coordinate system is at the surface of the Earth.\n",
    "\n",
    ">Since the position of the object along the vertical axis at the time the object strikes the ground is zero (y = 0), the y-equation above can be solved for the time of flight of the projectile. This time can then be substituted into the x-equation to find the range of the projectile (the displacement along the x-axis to the point where the object strikes the ground). \n",
    "\n",
    ">The initial position of the projectile can be measured using a meter stick. The initial velocity will be determined by measuring the range when the projectile is given a purely horizontal initial velocity (vy0 = 0) by first solving for the time of flight in the y-equation and then substituting into the x-equation. If the projectile is then launched at some angle above the horizontal, the initial velocity of the projectile measured with the launcher horizontal can be used with the angle of inclination to predict the new range of the projectile using the same equations, but with\n",
    "\n",
    ">$$v_{0x} = v_0cos\\theta$$\n",
    "$$v_{0y} = v_0cos\\theta$$\n",
    "\n",
    ">where   \n",
    ">>$v_0$ is the initial speed measured with the launcher horizontal, and  \n",
    "$\\theta$ is the angle of inclination.\n",
    "\n",
    "* Testing the model. The predicted range will be compared to the actual range measured with a meter stick.\n"
   ]
  },
  {
   "cell_type": "markdown",
   "metadata": {},
   "source": [
    "**Apparatus and experimental procedures**.\n",
    "* Equipment.\n",
    "    1. Ballistic pendulum apparatus.\n",
    "    2. Wood block.\n",
    "    3. Meter stick.\n",
    "    4. Carbon paper.\n",
    "* Experimental setup. The experimental setup for the experiment is shown in Figure 1.\n",
    "\n",
    "![Figure 1: Experimental apparatus.](http://localhost:8888/files/Pictures/Pojectile_Fig.1.gif)\n",
    "<div style=\"text-align: center;\" markdown=\"1\">Figure 1: Experimental apparatus. </div>\n",
    "\n",
    "\n",
    "* Capabilities.\n",
    "    1. Ballistic pendulum apparatus. The ballistic pendulum apparatus includes a spring loaded gun that provides initial velocity to a metal ball projectile.\n",
    "    2. Wood block. The wood block is used to adjust the initial velocity's angle with respect to the horizontal.\n",
    "    3. Meter stick. The meter stick is used to measure initial positions of the projectile, the ranges of the projectile and the angle of the initial velocity.\n",
    "    4. Carbon paper. The carbon paper is used as the target for the projectile. When the projectile strikes the carbon paper, a mark will be left on a paper under the carbon, allowing measurement of the range to that mark.\n",
    "* Procedures. Detailed instructions are provided in paragraph 4b below.\n",
    "    \n"
   ]
  },
  {
   "cell_type": "markdown",
   "metadata": {},
   "source": [
    "**Requirements**. \n",
    "* In the laboratory.\n",
    "    1. Your instructor will introduce you to the equipment to be used in the experiment.\n",
    "    2. Place the ballistic pendulum apparatus flat on a lab table so that the initial velocity of the ball will be in the horizontal direction only.\n",
    "    3. Establish a coordinate system and measure the initial position of the ball before it is set in motion. In a trial run, carefully note where the ball is released. Use the data tables provided in Annex A to record this and other data obtained in the experiment.\n",
    "    4. Using carbon paper to mark final position, perform five range trials with the initial velocity's direction parallel to the top of the lab table (make a trial shot to determine approximately where to place the carbon paper before the five trials). Find the average range of the projectile.\n",
    "    5. Place the wood block under the front edge of the ballistic pendulum. Determine the angle of the base of the ballistic pendulum with respect to the table top. This angle is also the angle of the initial velocity.\n",
    "    6. Measure the initial position of the ball before it is set in motion (it will not be the same as in the horizontally projected measurements).\n",
    "    7. Using carbon paper, perform five range trials with the ballistic pendulum at an angle (again, make a trial shot to determine where to place the carbon paper before the five trials).\n",
    "* After the laboratory. The items listed below will be turned in at the beginning of the next laboratory period. A complete laboratory report is not required for this laboratory. Use the ExcelTM spreadsheet program to make your calculations."
   ]
  },
  {
   "cell_type": "markdown",
   "metadata": {},
   "source": [
    "**Para. 4. Data**.\n",
    "1. Provide your original data tables.\n",
    "2. In your spreadsheet, provide data from your measurements.\n",
    "3. In your spreadsheet, provide the following calculations:\n",
    "    1. The initial velocity of the projectile from the horizontally projected data.\n",
    "    2. The angle of the initial velocity when the projectile is set in motion at an angle.\n",
    "    3. The predicted range of the projectile when set in motion at the angle of your experiment.\n",
    "    4. The percent discrepancy between your measured results and your predictions for the case when the projectile is set in motion at an angle.\n",
    "\n",
    "**Para. 5. Results and Conclusions**.\n",
    "* **Results.**\n",
    "    1. A statement providing the measured value of the magnitude of the initial velocity.\n",
    "    2. A statement of the measured and predicted ranges when the projectile is set in motion at an angle.\n",
    "    3. A statement providing the percent discrepancy in your results.\n",
    "    \n",
    "    \n",
    "* **Conclusions.**\n",
    "    1. Assess the accuracy of your experiment.\n",
    "    2. Assess the precision of the experiment based on the variation in your measured ranges.\n",
    "    3. Describe sources of random and systematic error in the experiment.\n"
   ]
  },
  {
   "cell_type": "markdown",
   "metadata": {},
   "source": [
    "_____"
   ]
  },
  {
   "cell_type": "markdown",
   "metadata": {},
   "source": [
    "<h3 align='center'> Annex A </h3>\n",
    "<h3 align='center'> Data Tables </h3>"
   ]
  },
  {
   "cell_type": "code",
   "execution_count": 1,
   "metadata": {
    "collapsed": true
   },
   "outputs": [],
   "source": [
    "import statistics"
   ]
  },
  {
   "cell_type": "code",
   "execution_count": 2,
   "metadata": {
    "collapsed": true
   },
   "outputs": [],
   "source": [
    "class ListTable(list):\n",
    "    \"\"\" Overridden list class which takes a 2-dimensional list of \n",
    "        the form [[1,2,3],[4,5,6]], and renders an HTML Table in \n",
    "        IPython Notebook. \"\"\"\n",
    "    \n",
    "    def _repr_html_(self):\n",
    "        html = [\"<table>\"]\n",
    "        for row in self:\n",
    "            html.append(\"<tr>\")\n",
    "            \n",
    "            for col in row:\n",
    "                html.append(\"<td>{0}</td>\".format(col))\n",
    "            \n",
    "            html.append(\"</tr>\")\n",
    "        html.append(\"</table>\")\n",
    "        return ''.join(html)"
   ]
  },
  {
   "cell_type": "markdown",
   "metadata": {},
   "source": [
    "#### 1) Projectile with horizontal initial velocity."
   ]
  },
  {
   "cell_type": "code",
   "execution_count": 2,
   "metadata": {
    "collapsed": true
   },
   "outputs": [],
   "source": [
    "# Initial position of bottom of projectile at release: \n",
    "\n",
    "x_i =  # (in m)\n",
    "y_i =  # (in m)\n",
    "y_f =  # (in m) assumed to be at the floor."
   ]
  },
  {
   "cell_type": "code",
   "execution_count": 6,
   "metadata": {
    "collapsed": false
   },
   "outputs": [
    {
     "data": {
      "text/html": [
       "<table><tr><td>trial</td><td>range (m)</td></tr><tr><td>1</td><td>0.902</td></tr><tr><td>2</td><td>0.903</td></tr><tr><td>3</td><td>0.916</td></tr><tr><td>4</td><td>0.931</td></tr><tr><td>5</td><td>0.934</td></tr><tr><td>average</td><td>0.9172</td></tr></table>"
      ],
      "text/plain": [
       "[['trial', 'range (m)'],\n",
       " [1, 0.902],\n",
       " [2, 0.903],\n",
       " [3, 0.916],\n",
       " [4, 0.931],\n",
       " [5, 0.934],\n",
       " ['average', 0.9172]]"
      ]
     },
     "execution_count": 6,
     "metadata": {},
     "output_type": "execute_result"
    }
   ],
   "source": [
    "# Range:\n",
    "\n",
    "Range1_dict = {1:,\n",
    "               2:,\n",
    "               3:,\n",
    "               4:,\n",
    "               5:}\n",
    "\n",
    "Range1_list = []\n",
    "\n",
    "table = ListTable()\n",
    "table.append(['trial','range (m)'])\n",
    "for item in Range1_dict:\n",
    "    R1 = Range1_dict[item]\n",
    "    table.append([item,R1])\n",
    "    Range1_list.append(Range1_dict[item])\n",
    "mean_R1 = statistics.mean(Range1_list)\n",
    "table.append(['average',mean_R1])\n",
    "table"
   ]
  },
  {
   "cell_type": "markdown",
   "metadata": {},
   "source": [
    "#### 2) Projectile with initial velocity at an angle"
   ]
  },
  {
   "cell_type": "code",
   "execution_count": 17,
   "metadata": {
    "collapsed": true
   },
   "outputs": [],
   "source": [
    "# Initial angle:\n",
    "\n",
    "theta =  # (in degrees)"
   ]
  },
  {
   "cell_type": "code",
   "execution_count": 7,
   "metadata": {
    "collapsed": true
   },
   "outputs": [],
   "source": [
    "# Initial position of bottom of projectile at release: \n",
    "\n",
    "x_i =  # (in m)\n",
    "\n",
    "y_i =  # (in m)"
   ]
  },
  {
   "cell_type": "code",
   "execution_count": 8,
   "metadata": {
    "collapsed": false
   },
   "outputs": [
    {
     "data": {
      "text/html": [
       "<table><tr><td>trial</td><td>range (m)</td></tr><tr><td>1</td><td>4</td></tr><tr><td>2</td><td>4</td></tr><tr><td>3</td><td>4</td></tr><tr><td>4</td><td>4</td></tr><tr><td>5</td><td>4</td></tr><tr><td>average</td><td>4.0</td></tr></table>"
      ],
      "text/plain": [
       "[['trial', 'range (m)'],\n",
       " [1, 4],\n",
       " [2, 4],\n",
       " [3, 4],\n",
       " [4, 4],\n",
       " [5, 4],\n",
       " ['average', 4.0]]"
      ]
     },
     "execution_count": 8,
     "metadata": {},
     "output_type": "execute_result"
    }
   ],
   "source": [
    "# Range: \n",
    "\n",
    "Range2_dict = {1:,\n",
    "               2:,\n",
    "               3:,\n",
    "               4:,\n",
    "               5:}\n",
    "\n",
    "Range2_list = []\n",
    "\n",
    "table = ListTable()\n",
    "table.append(['trial','range (m)'])\n",
    "for item in Range2_dict:\n",
    "    R2 = Range2_dict[item]\n",
    "    table.append([item,R2])\n",
    "    Range2_list.append(Range2_dict[item])\n",
    "mean_R2 = statistics.mean(Range2_list)\n",
    "table.append(['average',mean_R2])\n",
    "table"
   ]
  },
  {
   "cell_type": "markdown",
   "metadata": {},
   "source": [
    "_____\n",
    "_____"
   ]
  }
 ],
 "metadata": {
  "kernelspec": {
   "display_name": "Python 3",
   "language": "python",
   "name": "python3"
  },
  "language_info": {
   "codemirror_mode": {
    "name": "ipython",
    "version": 3
   },
   "file_extension": ".py",
   "mimetype": "text/x-python",
   "name": "python",
   "nbconvert_exporter": "python",
   "pygments_lexer": "ipython3",
   "version": "3.4.3"
  }
 },
 "nbformat": 4,
 "nbformat_minor": 0
}
