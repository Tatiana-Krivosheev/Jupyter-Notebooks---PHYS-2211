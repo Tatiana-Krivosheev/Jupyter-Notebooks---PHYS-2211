{
 "cells": [
  {
   "cell_type": "markdown",
   "metadata": {},
   "source": [
    "# PHYS 2211L - Principles of Physics Laboratory I"
   ]
  },
  {
   "cell_type": "markdown",
   "metadata": {},
   "source": [
    "### Laboratory Advanced Sheet\n",
    "### Acceleration Due to Gravity"
   ]
  },
  {
   "cell_type": "markdown",
   "metadata": {},
   "source": [
    "_____\n",
    "_____"
   ]
  },
  {
   "cell_type": "markdown",
   "metadata": {},
   "source": [
    "**Objectives**. The objectives of this laboratory are\n",
    "* To measure the local value of the acceleration due to gravity.\n",
    "* To introduce scientific graphing.\n",
    "* To introduce linear regression as a method for determining uncertainty.\n"
   ]
  },
  {
   "cell_type": "markdown",
   "metadata": {},
   "source": [
    "**Theory**. \n",
    "* General. Neglecting air resistance, an object dropped near the surface of the Earth falls with constant acceleration due to gravity. The local value of the acceleration due to gravity can be determined from knowledge of the displacement of the object as a function of the time of fall.\n",
    "* Model. The general expression for the position of an object undergoing one-dimensional motion with constant acceleration is\n",
    "\n",
    ">$$y_f = y_i + v_{yi}t + \\frac{1}{2}a_yt^2$$\n",
    "\n",
    ">where\n",
    ">>$y_f$ is the position of the object at time $t$,  \n",
    "$y_i$ is the initial position of the object (at time $t$ = 0),  \n",
    "$v_{yi}$ is the initial velocity of the object (at time $t$ = 0), and  \n",
    "$a_y$ is the constant acceleration of the object.\n",
    "\n",
    "For the case of an object released from rest near the surface of the Earth and neglecting the effects of air resistance, the general expression becomes\n",
    "\n",
    ">$$y_f = y_i - \\frac{1}{2}gt^2$$\n",
    "\n",
    ">where\n",
    ">>$g$ is the local value of the acceleration due to gravity. The minus sign reflects the selection of the direction away from the center of the Earth as positive. The origin of the coordinate system is at the point where the object ends its fall.\n",
    "\n",
    "In this experiment, a metal ball will be released from rest. Using y=0 at the point where the ball strikes a sensor surface:\n",
    "\n",
    ">$$y_i = \\frac{1}{2}gt^2$$\n",
    "\n",
    "If multiple release heights are selected and times of fall recorded for each, a graph of initial position ( y0) versus time squared (t2) is a straight line with slope equal to g/2 and intercept equal to zero.\n",
    "\n",
    "* Testing the model. The experimental methods described below will provide values of the time of fall of the metal ball for a variety of initial positions. A linear, least squares fit to the initial position versus time squared data pairs is made to determine the slope (m). The acceleration due to gravity is calculated from the results for the slope:\n",
    "\n",
    ">$$g = 2m$$\n",
    ">$$\\delta g = 2 \\delta m$$"
   ]
  },
  {
   "cell_type": "markdown",
   "metadata": {},
   "source": [
    "**Apparatus and experimental procedures**.\n",
    "* Equipment.\n",
    "    1. Free fall adapter\n",
    "    2. Metal ball.\n",
    "    3. Rods and clamps.\n",
    "    4. Meter stick.\n",
    "    5. Computer interface.\n",
    "    6. Computer.\n",
    "* Experimental setup. The experimental setup for the experiment is shown in Figure 1 (to be provided by the student).\n",
    "* Capabilities. \n",
    "    1. Free fall adapter. This device provides a clamp release mechanism to hold a metal ball at a desired height above a receptor. When the ball is released a timer is started. When the two plates of the receptor make contact as a result of being struck by the ball, the timer is stopped. The elapsed time is provided to the computer interface device.\n",
    "    2. Metal ball. The metal ball serves as the object to be dropped. The ball provides an electrical contact, which when broken when the ball is released starts a timer. The ball should strike the center of the receptor.\n",
    "    3. Rods and clamps. Rods and clamps are used to position the ball release mechanism above the receptor plates.\n",
    "    4. Meter stick. The meter stick is used to measure the height of the bottom of the ball above the top receptor plate.\n",
    "    5. Computer interface. The computer interface receives data from the free fall adapter. This information is then sent to the computer for display.\n",
    "    6. Computer. The computer receives the time of fall data and displays it using the Scientific WorkshopTM software.\n",
    "* Procedures. Detailed instructions are provided in paragraph 4b below.\n"
   ]
  },
  {
   "cell_type": "markdown",
   "metadata": {},
   "source": [
    "**Requirements**.\n",
    "* In the laboratory.\n",
    "    1. Your instructor will introduce you to the equipment to be used in the experiment.\n",
    "    2. Initial position versus time of fall data will be taken for the metal ball and will be recorded in the data table provided in Annex A.\n",
    "    3. The data will be entered into an ExcelTM spreadsheet. A graph of initial position versus time of fall squared will be produced. A linear regression of the initial positions versus time of fall squared will be computed using the trend line feature of ExcelTM.\n",
    "* After the laboratory. The items listed below will be turned in at the beginning of the next laboratory period. A complete laboratory report is not required for this laboratory.\n",
    "\n",
    "**Para. 3. Apparatus and experimental procedures**. Provide a diagram of the apparatus used in the experiment.\n",
    "\n",
    "**Para. 4. Data**.\t\n",
    "1. Provide your original data table (Annex A).\n",
    "2. Provide a copy of your completed spreadsheet, providing data and the calculations and graph indicated below.\n",
    "    1. A table of the data and calculations including columns for raw data (initial position and time of fall) and time of fall squared.\n",
    "    2. A table for the linear regression of initial position versus time of fall squared.\n",
    "    3. Calculations of the local value of the acceleration due to gravity and its uncertainty.\n",
    "    4. Calculations of the percent fractional error and percent discrepancy in your results.\n",
    "    5. A graph of position versus time after release squared that shows:\n",
    "        1. The measured initial positions versus time of fall squared as data points, and\n",
    "        2. The regressed initial position versus time of fall squared as a straight line.\n",
    "    \n",
    "**Para. 5. Results and Conclusions**.\n",
    "\n",
    "1. **Results**. Provide the following information in your results paragraph.\n",
    "    1. A statement providing the measured value of the local value of the acceleration due to gravity.\n",
    "    2. A statement providing the percent fractional error and percent discrepancy in your results.\n",
    "2. **Conclusions**.\n",
    "    1. Assess the precision and accuracy of your experiment. State whether systematic or random error dominates.\n",
    "    2. Describe sources of systematic error and random error in the experiment.\n",
    "\n"
   ]
  },
  {
   "cell_type": "markdown",
   "metadata": {},
   "source": [
    "_____"
   ]
  },
  {
   "cell_type": "markdown",
   "metadata": {},
   "source": [
    "<h3 align='center'> Annex A </h3>\n",
    "<h3 align='center'> Data Tables </h3>"
   ]
  },
  {
   "cell_type": "code",
   "execution_count": 2,
   "metadata": {
    "collapsed": false
   },
   "outputs": [],
   "source": [
    "import scipy\n",
    "from scipy import stats\n",
    "import numpy as np\n",
    "import pandas\n",
    "import matplotlib.pyplot as plt\n",
    "from IPython.display import Latex\n",
    "\n",
    "% matplotlib inline"
   ]
  },
  {
   "cell_type": "code",
   "execution_count": 3,
   "metadata": {
    "collapsed": true
   },
   "outputs": [],
   "source": [
    "class ListTable(list):\n",
    "    \"\"\" Overridden list class which takes a 2-dimensional list of \n",
    "        the form [[1,2,3],[4,5,6]], and renders an HTML Table in \n",
    "        IPython Notebook. \"\"\"\n",
    "    \n",
    "    def _repr_html_(self):\n",
    "        html = [\"<table>\"]\n",
    "        for row in self:\n",
    "            html.append(\"<tr>\")\n",
    "            \n",
    "            for col in row:\n",
    "                html.append(\"<td>{0}</td>\".format(col))\n",
    "            \n",
    "            html.append(\"</tr>\")\n",
    "        html.append(\"</table>\")\n",
    "        return ''.join(html)"
   ]
  },
  {
   "cell_type": "markdown",
   "metadata": {},
   "source": [
    "#### Annex A - Data"
   ]
  },
  {
   "cell_type": "code",
   "execution_count": 4,
   "metadata": {
    "collapsed": false
   },
   "outputs": [
    {
     "data": {
      "text/html": [
       "<table><tr><td>trial</td><td>initial position (m)</td><td>time of fall (s)</td><td>time of fall squared (s^2)</td></tr><tr><td>1</td><td>0.2</td><td>0.3</td><td>0.09</td></tr><tr><td>2</td><td>0.3</td><td>0.4</td><td>0.16</td></tr><tr><td>3</td><td>0.4</td><td>0.5</td><td>0.25</td></tr><tr><td>4</td><td>0.5</td><td>0.6</td><td>0.36</td></tr><tr><td>5</td><td>0.6</td><td>0.7</td><td>0.49</td></tr><tr><td>6</td><td>0.7</td><td>0.8</td><td>0.64</td></tr><tr><td>7</td><td>0.8</td><td>0.9</td><td>0.81</td></tr><tr><td>8</td><td>0.9</td><td>1.0</td><td>1.0</td></tr><tr><td>9</td><td>1.0</td><td>1.1</td><td>1.21</td></tr><tr><td>10</td><td>1.1</td><td>1.2</td><td>1.44</td></tr></table>"
      ],
      "text/plain": [
       "[['trial',\n",
       "  'initial position (m)',\n",
       "  'time of fall (s)',\n",
       "  'time of fall squared (s^2)'],\n",
       " [1, 0.2, 0.3, 0.09],\n",
       " [2, 0.3, 0.4, 0.16000000000000003],\n",
       " [3, 0.4, 0.5, 0.25],\n",
       " [4, 0.5, 0.6, 0.36],\n",
       " [5, 0.6, 0.7, 0.48999999999999994],\n",
       " [6, 0.7, 0.8, 0.6400000000000001],\n",
       " [7, 0.8, 0.9, 0.81],\n",
       " [8, 0.9, 1.0, 1.0],\n",
       " [9, 1.0, 1.1, 1.2100000000000002],\n",
       " [10, 1.1, 1.2, 1.44]]"
      ]
     },
     "execution_count": 4,
     "metadata": {},
     "output_type": "execute_result"
    }
   ],
   "source": [
    "import collections\n",
    "\n",
    "# x = ((trial number,[initial height (in m),total time (in s)]),...)\n",
    "x = ((1,[0.2,0.3]),\n",
    "     (2,[0.3,0.4]),\n",
    "     (3,[0.4,0.5]),\n",
    "     (4,[0.5,0.6]),\n",
    "     (5,[0.6,0.7]),\n",
    "     (6,[0.7,0.8]),\n",
    "     (7,[0.8,0.9]),\n",
    "     (8,[0.9,1.0]),\n",
    "     (9,[1.0,1.1]),\n",
    "     (10,[1.1,1.2]))\n",
    "\n",
    "\n",
    "# Creates an ordered dictionary of the form: x = {trial:[initial height,total time],...) \n",
    "x_ord_dict = collections.OrderedDict(x)\n",
    "\n",
    "\n",
    "# Table of initial position, time of fall, and time of fall squared for each trial.\n",
    "table = ListTable()\n",
    "table.append(['trial',\n",
    "              'initial position (m)',\n",
    "              'time of fall (s)',\n",
    "              'time of fall squared (s^2)'])\n",
    "for item in x_ord_dict:\n",
    "    trial = item\n",
    "    x = x_ord_dict[item][0]\n",
    "    t = x_ord_dict[item][1]\n",
    "    z = (x_ord_dict[item][1])**2\n",
    "    table.append([trial,x,t,z])\n",
    "table"
   ]
  },
  {
   "cell_type": "markdown",
   "metadata": {},
   "source": [
    "#### Graph"
   ]
  },
  {
   "cell_type": "code",
   "execution_count": 5,
   "metadata": {
    "collapsed": false
   },
   "outputs": [
    {
     "data": {
      "image/png": "[encoded data removed]",
      "text/plain": [
       "<matplotlib.figure.Figure at 0x10aefc6d0>"
      ]
     },
     "metadata": {},
     "output_type": "display_data"
    },
    {
     "name": "stdout",
     "output_type": "stream",
     "text": [
      "slope= 0.648228176318\n"
     ]
    }
   ],
   "source": [
    "x = [] # list of time of fall squared (in square seconds) for each trial.\n",
    "y = [] # list of initial positions (in meters) for each trial.\n",
    "\n",
    "for item in x_ord_dict:\n",
    "    x.append((x_ord_dict[item][1])**2)\n",
    "    y.append(x_ord_dict[item][0])\n",
    "\n",
    "plt.scatter(x,y)\n",
    "plt.title('Acceleration due to Gravity')\n",
    "plt.xlabel('Time of fall squared ($s^2$)')\n",
    "plt.ylabel('Initial Position (m)')\n",
    "fit = np.polyfit(x,y,1)\n",
    "fit_fn = np.poly1d(fit)\n",
    "plt.plot(x,y, 'yo', x, fit_fn(x), '--k')\n",
    "m,b = np.polyfit(x, y, 1)\n",
    "slope, intercept, r_value, p_value, std_err = scipy.stats.linregress(x,y)\n",
    "plt.show()\n",
    "\n",
    "print'slope=',m\n"
   ]
  },
  {
   "cell_type": "markdown",
   "metadata": {},
   "source": [
    "#### Results"
   ]
  },
  {
   "cell_type": "code",
   "execution_count": 6,
   "metadata": {
    "collapsed": false
   },
   "outputs": [],
   "source": [
    "m = slope # Slope of trendline .\n",
    "err_m = std_err # Uncertainty in the slope.\n",
    "g = m*2 # Acceleration due to gravity\n",
    "## err_g = # Uncertainty in calculated acceleration due to gravity.\n",
    "disc = (g - 9.80)/9.80 # Percent discrepancy between measured and accepted values of the acceleration due to gravity."
   ]
  },
  {
   "cell_type": "markdown",
   "metadata": {},
   "source": [
    "_____\n",
    "_____"
   ]
  }
 ],
 "metadata": {
  "kernelspec": {
   "display_name": "Python 2",
   "language": "python",
   "name": "python2"
  },
  "language_info": {
   "codemirror_mode": {
    "name": "ipython",
    "version": 2
   },
   "file_extension": ".py",
   "mimetype": "text/x-python",
   "name": "python",
   "nbconvert_exporter": "python",
   "pygments_lexer": "ipython2",
   "version": "2.7.11"
  }
 },
 "nbformat": 4,
 "nbformat_minor": 0
}
